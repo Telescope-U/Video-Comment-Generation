{
 "cells": [
  {
   "cell_type": "code",
   "execution_count": 1,
   "id": "9c2a060f",
   "metadata": {},
   "outputs": [],
   "source": [
    "import os\n",
    "import numpy as np\n",
    "import pandas as pd\n",
    "COMMENT_PATH = 'Dataset/comments.csv'\n",
    "TRANSCRIPT_FOLDER = \"Dataset/Transcripts/\"\n",
    "INFO_PATH = \"Dataset/videos.csv\"\n",
    "LOG_ERROR_PATH = \"DataCollection/error_log.csv\"\n",
    "LOG_SUCCESS_PATH = \"DataCollection/success_log.csv\""
   ]
  },
  {
   "cell_type": "markdown",
   "id": "700c24fc",
   "metadata": {},
   "source": [
    "# 1. Clean empty file\n",
    "* 清除没有comment / transcript的数据"
   ]
  },
  {
   "cell_type": "code",
   "execution_count": 2,
   "id": "90355ba5",
   "metadata": {
    "scrolled": true
   },
   "outputs": [],
   "source": [
    "comment_df = pd.read_csv(COMMENT_PATH)\n",
    "info_df = pd.read_csv(INFO_PATH)"
   ]
  },
  {
   "cell_type": "code",
   "execution_count": 3,
   "id": "59b11ba4",
   "metadata": {},
   "outputs": [
    {
     "data": {
      "text/html": [
       "<div>\n",
       "<style scoped>\n",
       "    .dataframe tbody tr th:only-of-type {\n",
       "        vertical-align: middle;\n",
       "    }\n",
       "\n",
       "    .dataframe tbody tr th {\n",
       "        vertical-align: top;\n",
       "    }\n",
       "\n",
       "    .dataframe thead th {\n",
       "        text-align: right;\n",
       "    }\n",
       "</style>\n",
       "<table border=\"1\" class=\"dataframe\">\n",
       "  <thead>\n",
       "    <tr style=\"text-align: right;\">\n",
       "      <th></th>\n",
       "      <th>vid</th>\n",
       "      <th>uid</th>\n",
       "      <th>content</th>\n",
       "      <th>votes</th>\n",
       "    </tr>\n",
       "  </thead>\n",
       "  <tbody>\n",
       "    <tr>\n",
       "      <th>count</th>\n",
       "      <td>481821</td>\n",
       "      <td>481821</td>\n",
       "      <td>481817</td>\n",
       "      <td>389255</td>\n",
       "    </tr>\n",
       "    <tr>\n",
       "      <th>unique</th>\n",
       "      <td>4229</td>\n",
       "      <td>236830</td>\n",
       "      <td>220950</td>\n",
       "      <td>1191</td>\n",
       "    </tr>\n",
       "    <tr>\n",
       "      <th>top</th>\n",
       "      <td>wlCz8nkDNqo</td>\n",
       "      <td>UgxXGMg96x9dS7ZcJut4AaABAg</td>\n",
       "      <td>❤</td>\n",
       "      <td>1</td>\n",
       "    </tr>\n",
       "    <tr>\n",
       "      <th>freq</th>\n",
       "      <td>480</td>\n",
       "      <td>12</td>\n",
       "      <td>769</td>\n",
       "      <td>52884</td>\n",
       "    </tr>\n",
       "  </tbody>\n",
       "</table>\n",
       "</div>"
      ],
      "text/plain": [
       "                vid                         uid content   votes\n",
       "count        481821                      481821  481817  389255\n",
       "unique         4229                      236830  220950    1191\n",
       "top     wlCz8nkDNqo  UgxXGMg96x9dS7ZcJut4AaABAg       ❤       1\n",
       "freq            480                          12     769   52884"
      ]
     },
     "execution_count": 3,
     "metadata": {},
     "output_type": "execute_result"
    }
   ],
   "source": [
    "comment_df.describe()"
   ]
  },
  {
   "cell_type": "code",
   "execution_count": 4,
   "id": "80366a77",
   "metadata": {},
   "outputs": [
    {
     "data": {
      "text/plain": [
       "(481821, 4)"
      ]
     },
     "execution_count": 4,
     "metadata": {},
     "output_type": "execute_result"
    }
   ],
   "source": [
    "comment_df.shape"
   ]
  },
  {
   "cell_type": "code",
   "execution_count": 5,
   "id": "7bb8b131",
   "metadata": {},
   "outputs": [],
   "source": [
    "comment_df = comment_df.drop_duplicates(['uid', 'content'])"
   ]
  },
  {
   "cell_type": "code",
   "execution_count": 6,
   "id": "7f8803ce",
   "metadata": {
    "scrolled": true
   },
   "outputs": [
    {
     "data": {
      "text/plain": [
       "(4410, 7)"
      ]
     },
     "execution_count": 6,
     "metadata": {},
     "output_type": "execute_result"
    }
   ],
   "source": [
    "cleaned_info_df = info_df[info_df['vid'].isin(comment_df['vid'])]\n",
    "cleaned_info_df.shape"
   ]
  },
  {
   "cell_type": "code",
   "execution_count": 7,
   "id": "2eed8aa0",
   "metadata": {},
   "outputs": [],
   "source": [
    "# transcript 有1800+个video是空的\n",
    "empty_vids = set()\n",
    "for file in os.listdir(TRANSCRIPT_FOLDER):\n",
    "    if file == '.DS_Store':\n",
    "        continue\n",
    "    with open(os.path.join(TRANSCRIPT_FOLDER, file), 'r')as f:\n",
    "        lines = f.readlines()\n",
    "        if len(lines) <= 5:\n",
    "            vid = file.split('.')[0]\n",
    "            empty_vids.add(vid)"
   ]
  },
  {
   "cell_type": "code",
   "execution_count": 8,
   "id": "87019580",
   "metadata": {},
   "outputs": [
    {
     "name": "stderr",
     "output_type": "stream",
     "text": [
      "<ipython-input-8-8912f1cf3b77>:1: UserWarning: Boolean Series key will be reindexed to match DataFrame index.\n",
      "  cleaned_info_df = cleaned_info_df[~info_df['vid'].isin(empty_vids)]\n"
     ]
    }
   ],
   "source": [
    "cleaned_info_df = cleaned_info_df[~info_df['vid'].isin(empty_vids)]"
   ]
  },
  {
   "cell_type": "code",
   "execution_count": 9,
   "id": "4ac8a5b3",
   "metadata": {},
   "outputs": [
    {
     "data": {
      "text/plain": [
       "(2523, 7)"
      ]
     },
     "execution_count": 9,
     "metadata": {},
     "output_type": "execute_result"
    }
   ],
   "source": [
    "deleted_infos = info_df[~info_df['vid'].isin(cleaned_info_df['vid'])]\n",
    "deleted_infos.shape"
   ]
  },
  {
   "cell_type": "code",
   "execution_count": 10,
   "id": "c478d022",
   "metadata": {},
   "outputs": [
    {
     "data": {
      "text/plain": [
       "(2860, 7)"
      ]
     },
     "execution_count": 10,
     "metadata": {},
     "output_type": "execute_result"
    }
   ],
   "source": [
    "cleaned_info_df.shape"
   ]
  },
  {
   "cell_type": "code",
   "execution_count": 11,
   "id": "d3f8fd21",
   "metadata": {},
   "outputs": [
    {
     "data": {
      "text/plain": [
       "(2740, 7)"
      ]
     },
     "execution_count": 11,
     "metadata": {},
     "output_type": "execute_result"
    }
   ],
   "source": [
    "cleaned_info_df = cleaned_info_df.drop_duplicates(['vid'])\n",
    "cleaned_info_df.shape"
   ]
  },
  {
   "cell_type": "code",
   "execution_count": 12,
   "id": "e8ba23e7",
   "metadata": {},
   "outputs": [],
   "source": [
    "\n",
    "cleaned_info_df.to_csv('info.csv', index=None)"
   ]
  },
  {
   "cell_type": "markdown",
   "id": "d9c859c8",
   "metadata": {},
   "source": [
    "## 1.2 清理空数据之后的分类结果\n",
    "1. News和Education 最多，都超过300了"
   ]
  },
  {
   "cell_type": "code",
   "execution_count": 13,
   "id": "9ca02e11",
   "metadata": {
    "scrolled": false
   },
   "outputs": [
    {
     "data": {
      "text/plain": [
       "Education        376\n",
       "News             372\n",
       "Vlog             231\n",
       "Music            221\n",
       "Fashion          218\n",
       "Art              194\n",
       "Sport            176\n",
       "Game             171\n",
       "Entertainment    161\n",
       "Tech             160\n",
       "Food             127\n",
       "Motivation       116\n",
       "Name: tag, dtype: int64"
      ]
     },
     "execution_count": 13,
     "metadata": {},
     "output_type": "execute_result"
    }
   ],
   "source": [
    "deleted_infos['tag'].value_counts()"
   ]
  },
  {
   "cell_type": "code",
   "execution_count": 14,
   "id": "492b9f4b",
   "metadata": {
    "scrolled": true
   },
   "outputs": [
    {
     "data": {
      "text/plain": [
       "<AxesSubplot:>"
      ]
     },
     "execution_count": 14,
     "metadata": {},
     "output_type": "execute_result"
    },
    {
     "data": {
      "image/png": "[encoded data removed]",
      "text/plain": [
       "<Figure size 432x288 with 1 Axes>"
      ]
     },
     "metadata": {
      "needs_background": "light"
     },
     "output_type": "display_data"
    }
   ],
   "source": [
    "deleted_infos['tag'].hist()"
   ]
  },
  {
   "cell_type": "markdown",
   "id": "d8438f96",
   "metadata": {},
   "source": [
    "# 2. Video Information Profile\n",
    "* 每个属性的nan情况\n",
    "* tag的分布\n",
    "* 发布时间\n",
    "* views需要处理成数据\n",
    "\n",
    " 原来有5283个video"
   ]
  },
  {
   "cell_type": "code",
   "execution_count": 15,
   "id": "c6c1dac3",
   "metadata": {},
   "outputs": [
    {
     "data": {
      "text/html": [
       "<div>\n",
       "<style scoped>\n",
       "    .dataframe tbody tr th:only-of-type {\n",
       "        vertical-align: middle;\n",
       "    }\n",
       "\n",
       "    .dataframe tbody tr th {\n",
       "        vertical-align: top;\n",
       "    }\n",
       "\n",
       "    .dataframe thead th {\n",
       "        text-align: right;\n",
       "    }\n",
       "</style>\n",
       "<table border=\"1\" class=\"dataframe\">\n",
       "  <thead>\n",
       "    <tr style=\"text-align: right;\">\n",
       "      <th></th>\n",
       "      <th>vid</th>\n",
       "      <th>title</th>\n",
       "      <th>tag</th>\n",
       "      <th>time</th>\n",
       "      <th>duration</th>\n",
       "      <th>views</th>\n",
       "      <th>link</th>\n",
       "    </tr>\n",
       "  </thead>\n",
       "  <tbody>\n",
       "    <tr>\n",
       "      <th>count</th>\n",
       "      <td>2740</td>\n",
       "      <td>2740</td>\n",
       "      <td>2740</td>\n",
       "      <td>2740</td>\n",
       "      <td>2740</td>\n",
       "      <td>2738</td>\n",
       "      <td>2740</td>\n",
       "    </tr>\n",
       "    <tr>\n",
       "      <th>unique</th>\n",
       "      <td>2740</td>\n",
       "      <td>2734</td>\n",
       "      <td>12</td>\n",
       "      <td>89</td>\n",
       "      <td>1481</td>\n",
       "      <td>2735</td>\n",
       "      <td>2740</td>\n",
       "    </tr>\n",
       "    <tr>\n",
       "      <th>top</th>\n",
       "      <td>syvOBw0JFyQ</td>\n",
       "      <td>I Went UNDERCOVER in Nick Eh 30's Fashion Show!</td>\n",
       "      <td>Tech</td>\n",
       "      <td>1 month ago</td>\n",
       "      <td>1:00</td>\n",
       "      <td>471,298 views</td>\n",
       "      <td>https://www.youtube.com/watch?v=HMYcI90njDw</td>\n",
       "    </tr>\n",
       "    <tr>\n",
       "      <th>freq</th>\n",
       "      <td>1</td>\n",
       "      <td>2</td>\n",
       "      <td>306</td>\n",
       "      <td>252</td>\n",
       "      <td>25</td>\n",
       "      <td>2</td>\n",
       "      <td>1</td>\n",
       "    </tr>\n",
       "  </tbody>\n",
       "</table>\n",
       "</div>"
      ],
      "text/plain": [
       "                vid                                            title   tag  \\\n",
       "count          2740                                             2740  2740   \n",
       "unique         2740                                             2734    12   \n",
       "top     syvOBw0JFyQ  I Went UNDERCOVER in Nick Eh 30's Fashion Show!  Tech   \n",
       "freq              1                                                2   306   \n",
       "\n",
       "               time duration          views  \\\n",
       "count          2740     2740           2738   \n",
       "unique           89     1481           2735   \n",
       "top     1 month ago     1:00  471,298 views   \n",
       "freq            252       25              2   \n",
       "\n",
       "                                               link  \n",
       "count                                          2740  \n",
       "unique                                         2740  \n",
       "top     https://www.youtube.com/watch?v=HMYcI90njDw  \n",
       "freq                                              1  "
      ]
     },
     "execution_count": 15,
     "metadata": {},
     "output_type": "execute_result"
    }
   ],
   "source": [
    "infos = pd.read_csv(\"info.csv\")\n",
    "infos.describe()"
   ]
  },
  {
   "cell_type": "markdown",
   "id": "51d7ce99",
   "metadata": {},
   "source": [
    "## 2.1 duration"
   ]
  },
  {
   "cell_type": "code",
   "execution_count": 16,
   "id": "33e55eae",
   "metadata": {
    "scrolled": true
   },
   "outputs": [
    {
     "data": {
      "text/plain": [
       "0       3:11\n",
       "1       8:35\n",
       "2       3:46\n",
       "3       1:41\n",
       "4       2:41\n",
       "        ... \n",
       "2735    3:27\n",
       "2736    4:57\n",
       "2737    3:08\n",
       "2738    2:32\n",
       "2739    3:42\n",
       "Name: duration, Length: 2740, dtype: object"
      ]
     },
     "execution_count": 16,
     "metadata": {},
     "output_type": "execute_result"
    }
   ],
   "source": [
    "infos['duration']"
   ]
  },
  {
   "cell_type": "code",
   "execution_count": 17,
   "id": "44ea1f50",
   "metadata": {},
   "outputs": [
    {
     "data": {
      "text/plain": [
       "count    2740.000000\n",
       "mean       18.942701\n",
       "std        35.841803\n",
       "min         0.216667\n",
       "25%         6.083333\n",
       "50%        11.500000\n",
       "75%        19.450000\n",
       "max       801.566667\n",
       "Name: duration, dtype: float64"
      ]
     },
     "execution_count": 17,
     "metadata": {},
     "output_type": "execute_result"
    }
   ],
   "source": [
    "def trans_duration(string):\n",
    "    miniute, second = string.split(':')[-2], string.split(':')[-1]\n",
    "    if len(string.split(':')) == 3:\n",
    "        hour = string.split(':')[0]\n",
    "    else:\n",
    "        hour = 0\n",
    "    return (int(hour)* 3600 + int(miniute)*60 + int(second))/60\n",
    "infos['duration'] = infos['duration'].apply(trans_duration)\n",
    "infos['duration'].describe()"
   ]
  },
  {
   "cell_type": "code",
   "execution_count": 18,
   "id": "0f2df290",
   "metadata": {
    "scrolled": true
   },
   "outputs": [
    {
     "data": {
      "text/html": [
       "<div>\n",
       "<style scoped>\n",
       "    .dataframe tbody tr th:only-of-type {\n",
       "        vertical-align: middle;\n",
       "    }\n",
       "\n",
       "    .dataframe tbody tr th {\n",
       "        vertical-align: top;\n",
       "    }\n",
       "\n",
       "    .dataframe thead th {\n",
       "        text-align: right;\n",
       "    }\n",
       "</style>\n",
       "<table border=\"1\" class=\"dataframe\">\n",
       "  <thead>\n",
       "    <tr style=\"text-align: right;\">\n",
       "      <th></th>\n",
       "      <th>duration</th>\n",
       "    </tr>\n",
       "  </thead>\n",
       "  <tbody>\n",
       "    <tr>\n",
       "      <th>count</th>\n",
       "      <td>2086.000000</td>\n",
       "    </tr>\n",
       "    <tr>\n",
       "      <th>mean</th>\n",
       "      <td>9.254666</td>\n",
       "    </tr>\n",
       "    <tr>\n",
       "      <th>std</th>\n",
       "      <td>5.196186</td>\n",
       "    </tr>\n",
       "    <tr>\n",
       "      <th>min</th>\n",
       "      <td>0.216667</td>\n",
       "    </tr>\n",
       "    <tr>\n",
       "      <th>25%</th>\n",
       "      <td>4.583333</td>\n",
       "    </tr>\n",
       "    <tr>\n",
       "      <th>50%</th>\n",
       "      <td>9.116667</td>\n",
       "    </tr>\n",
       "    <tr>\n",
       "      <th>75%</th>\n",
       "      <td>13.262500</td>\n",
       "    </tr>\n",
       "    <tr>\n",
       "      <th>max</th>\n",
       "      <td>19.983333</td>\n",
       "    </tr>\n",
       "  </tbody>\n",
       "</table>\n",
       "</div>"
      ],
      "text/plain": [
       "          duration\n",
       "count  2086.000000\n",
       "mean      9.254666\n",
       "std       5.196186\n",
       "min       0.216667\n",
       "25%       4.583333\n",
       "50%       9.116667\n",
       "75%      13.262500\n",
       "max      19.983333"
      ]
     },
     "execution_count": 18,
     "metadata": {},
     "output_type": "execute_result"
    }
   ],
   "source": [
    "infos = infos[infos['duration'] < 20]\n",
    "infos.describe()"
   ]
  },
  {
   "cell_type": "markdown",
   "id": "e683ac5a",
   "metadata": {},
   "source": [
    "## 2.2 views"
   ]
  },
  {
   "cell_type": "code",
   "execution_count": 19,
   "id": "777e60ba",
   "metadata": {
    "scrolled": true
   },
   "outputs": [
    {
     "data": {
      "text/plain": [
       "0          143,423 views\n",
       "1        1,129,023 views\n",
       "2           73,366 views\n",
       "3          122,448 views\n",
       "4          309,045 views\n",
       "              ...       \n",
       "2735         1,261 views\n",
       "2736       806,112 views\n",
       "2737    37,929,473 views\n",
       "2738     1,095,318 views\n",
       "2739       335,583 views\n",
       "Name: views, Length: 2086, dtype: object"
      ]
     },
     "execution_count": 19,
     "metadata": {},
     "output_type": "execute_result"
    }
   ],
   "source": [
    "infos.views"
   ]
  },
  {
   "cell_type": "code",
   "execution_count": 20,
   "id": "be9ebeed",
   "metadata": {},
   "outputs": [],
   "source": [
    "def trans_views(string):\n",
    "    try:\n",
    "        return int(string.strip('views').replace(',',''))/10000\n",
    "    except:\n",
    "        return \n",
    "infos['view_10k'] = infos['views'].apply(trans_views)"
   ]
  },
  {
   "cell_type": "code",
   "execution_count": 21,
   "id": "d1210fb2",
   "metadata": {
    "scrolled": true
   },
   "outputs": [
    {
     "data": {
      "text/plain": [
       "0         14.3423\n",
       "1        112.9023\n",
       "2          7.3366\n",
       "3         12.2448\n",
       "4         30.9045\n",
       "          ...    \n",
       "2735       0.1261\n",
       "2736      80.6112\n",
       "2737    3792.9473\n",
       "2738     109.5318\n",
       "2739      33.5583\n",
       "Name: view_10k, Length: 2086, dtype: float64"
      ]
     },
     "execution_count": 21,
     "metadata": {},
     "output_type": "execute_result"
    }
   ],
   "source": [
    "infos['view_10k']"
   ]
  },
  {
   "cell_type": "code",
   "execution_count": 22,
   "id": "ce7187eb",
   "metadata": {},
   "outputs": [
    {
     "data": {
      "text/plain": [
       "array([[<AxesSubplot:title={'center':'duration'}>,\n",
       "        <AxesSubplot:title={'center':'view_10k'}>]], dtype=object)"
      ]
     },
     "execution_count": 22,
     "metadata": {},
     "output_type": "execute_result"
    },
    {
     "data": {
      "image/png": "[encoded data removed]",
      "text/plain": [
       "<Figure size 432x288 with 2 Axes>"
      ]
     },
     "metadata": {
      "needs_background": "light"
     },
     "output_type": "display_data"
    }
   ],
   "source": [
    "infos.hist()"
   ]
  },
  {
   "cell_type": "code",
   "execution_count": 23,
   "id": "bb33976c",
   "metadata": {},
   "outputs": [],
   "source": [
    "infos.to_csv('new_infos.csv', index = None)"
   ]
  },
  {
   "cell_type": "code",
   "execution_count": 24,
   "id": "19e3c743",
   "metadata": {},
   "outputs": [
    {
     "data": {
      "text/html": [
       "<div>\n",
       "<style scoped>\n",
       "    .dataframe tbody tr th:only-of-type {\n",
       "        vertical-align: middle;\n",
       "    }\n",
       "\n",
       "    .dataframe tbody tr th {\n",
       "        vertical-align: top;\n",
       "    }\n",
       "\n",
       "    .dataframe thead th {\n",
       "        text-align: right;\n",
       "    }\n",
       "</style>\n",
       "<table border=\"1\" class=\"dataframe\">\n",
       "  <thead>\n",
       "    <tr style=\"text-align: right;\">\n",
       "      <th></th>\n",
       "      <th>vid</th>\n",
       "      <th>title</th>\n",
       "      <th>tag</th>\n",
       "      <th>time</th>\n",
       "      <th>duration_min</th>\n",
       "      <th>views</th>\n",
       "      <th>link</th>\n",
       "      <th>view_10k</th>\n",
       "    </tr>\n",
       "  </thead>\n",
       "  <tbody>\n",
       "    <tr>\n",
       "      <th>0</th>\n",
       "      <td>tZa4hs1MY3Y</td>\n",
       "      <td>Secret Service pushes back on allegations in r...</td>\n",
       "      <td>News</td>\n",
       "      <td>1 day ago</td>\n",
       "      <td>3.183333</td>\n",
       "      <td>143,423 views</td>\n",
       "      <td>https://www.youtube.com/watch?v=tZa4hs1MY3Y</td>\n",
       "      <td>14.3423</td>\n",
       "    </tr>\n",
       "    <tr>\n",
       "      <th>1</th>\n",
       "      <td>oOcZRxBwZ1k</td>\n",
       "      <td>Trump Coup Nightmare: See The Moment Fox News ...</td>\n",
       "      <td>News</td>\n",
       "      <td>15 hours ago</td>\n",
       "      <td>8.583333</td>\n",
       "      <td>1,129,023 views</td>\n",
       "      <td>https://www.youtube.com/watch?v=oOcZRxBwZ1k</td>\n",
       "      <td>112.9023</td>\n",
       "    </tr>\n",
       "    <tr>\n",
       "      <th>2</th>\n",
       "      <td>jLkqmXmkVkE</td>\n",
       "      <td>Putin warns after Finland and Sweden invited t...</td>\n",
       "      <td>News</td>\n",
       "      <td>15 hours ago</td>\n",
       "      <td>3.766667</td>\n",
       "      <td>73,366 views</td>\n",
       "      <td>https://www.youtube.com/watch?v=jLkqmXmkVkE</td>\n",
       "      <td>7.3366</td>\n",
       "    </tr>\n",
       "    <tr>\n",
       "      <th>3</th>\n",
       "      <td>t2nu91KU25g</td>\n",
       "      <td>Biden loses Supreme Court ruling as court rein...</td>\n",
       "      <td>News</td>\n",
       "      <td>1 hour ago</td>\n",
       "      <td>1.683333</td>\n",
       "      <td>122,448 views</td>\n",
       "      <td>https://www.youtube.com/watch?v=t2nu91KU25g</td>\n",
       "      <td>12.2448</td>\n",
       "    </tr>\n",
       "    <tr>\n",
       "      <th>4</th>\n",
       "      <td>tSJf6KEC5qc</td>\n",
       "      <td>India state on alert after Prophet Muhammad ro...</td>\n",
       "      <td>News</td>\n",
       "      <td>23 hours ago</td>\n",
       "      <td>2.683333</td>\n",
       "      <td>309,045 views</td>\n",
       "      <td>https://www.youtube.com/watch?v=tSJf6KEC5qc</td>\n",
       "      <td>30.9045</td>\n",
       "    </tr>\n",
       "  </tbody>\n",
       "</table>\n",
       "</div>"
      ],
      "text/plain": [
       "           vid                                              title   tag  \\\n",
       "0  tZa4hs1MY3Y  Secret Service pushes back on allegations in r...  News   \n",
       "1  oOcZRxBwZ1k  Trump Coup Nightmare: See The Moment Fox News ...  News   \n",
       "2  jLkqmXmkVkE  Putin warns after Finland and Sweden invited t...  News   \n",
       "3  t2nu91KU25g  Biden loses Supreme Court ruling as court rein...  News   \n",
       "4  tSJf6KEC5qc  India state on alert after Prophet Muhammad ro...  News   \n",
       "\n",
       "           time  duration_min            views  \\\n",
       "0     1 day ago      3.183333    143,423 views   \n",
       "1  15 hours ago      8.583333  1,129,023 views   \n",
       "2  15 hours ago      3.766667     73,366 views   \n",
       "3    1 hour ago      1.683333    122,448 views   \n",
       "4  23 hours ago      2.683333    309,045 views   \n",
       "\n",
       "                                          link  view_10k  \n",
       "0  https://www.youtube.com/watch?v=tZa4hs1MY3Y   14.3423  \n",
       "1  https://www.youtube.com/watch?v=oOcZRxBwZ1k  112.9023  \n",
       "2  https://www.youtube.com/watch?v=jLkqmXmkVkE    7.3366  \n",
       "3  https://www.youtube.com/watch?v=t2nu91KU25g   12.2448  \n",
       "4  https://www.youtube.com/watch?v=tSJf6KEC5qc   30.9045  "
      ]
     },
     "execution_count": 24,
     "metadata": {},
     "output_type": "execute_result"
    }
   ],
   "source": [
    "infos = pd.read_csv(\"new_infos.csv\")\n",
    "infos.head()"
   ]
  },
  {
   "cell_type": "markdown",
   "id": "12e6bcc9",
   "metadata": {},
   "source": [
    "## 2. Comment"
   ]
  },
  {
   "cell_type": "code",
   "execution_count": 177,
   "id": "d2043cd5",
   "metadata": {
    "scrolled": false
   },
   "outputs": [
    {
     "data": {
      "text/html": [
       "<div>\n",
       "<style scoped>\n",
       "    .dataframe tbody tr th:only-of-type {\n",
       "        vertical-align: middle;\n",
       "    }\n",
       "\n",
       "    .dataframe tbody tr th {\n",
       "        vertical-align: top;\n",
       "    }\n",
       "\n",
       "    .dataframe thead th {\n",
       "        text-align: right;\n",
       "    }\n",
       "</style>\n",
       "<table border=\"1\" class=\"dataframe\">\n",
       "  <thead>\n",
       "    <tr style=\"text-align: right;\">\n",
       "      <th></th>\n",
       "      <th>vid</th>\n",
       "      <th>uid</th>\n",
       "      <th>content</th>\n",
       "      <th>votes</th>\n",
       "    </tr>\n",
       "  </thead>\n",
       "  <tbody>\n",
       "    <tr>\n",
       "      <th>0</th>\n",
       "      <td>tZa4hs1MY3Y</td>\n",
       "      <td>UgxDRq2kfKKUdlLpBZl4AaABAg</td>\n",
       "      <td>I would be shocked if the committee hasn't alr...</td>\n",
       "      <td>170.0</td>\n",
       "    </tr>\n",
       "    <tr>\n",
       "      <th>1</th>\n",
       "      <td>tZa4hs1MY3Y</td>\n",
       "      <td>Ugxove78337i20X3u614AaABAg</td>\n",
       "      <td>My favorite part of the hearing was at the end:</td>\n",
       "      <td>2.0</td>\n",
       "    </tr>\n",
       "    <tr>\n",
       "      <th>2</th>\n",
       "      <td>tZa4hs1MY3Y</td>\n",
       "      <td>UgxOhb_QtgvMJ8Age_B4AaABAg</td>\n",
       "      <td>Her position within the west wing was specific...</td>\n",
       "      <td>4.0</td>\n",
       "    </tr>\n",
       "    <tr>\n",
       "      <th>3</th>\n",
       "      <td>tZa4hs1MY3Y</td>\n",
       "      <td>UgwSx3EZ9UZXPwroBB54AaABAg</td>\n",
       "      <td>\"Too good to verify\" as they say in the ABC, N...</td>\n",
       "      <td>6.0</td>\n",
       "    </tr>\n",
       "    <tr>\n",
       "      <th>4</th>\n",
       "      <td>tZa4hs1MY3Y</td>\n",
       "      <td>Ugz1NKYar4WApnMFHyd4AaABAg</td>\n",
       "      <td>Her “hear say” testimony would never be allowe...</td>\n",
       "      <td>1.0</td>\n",
       "    </tr>\n",
       "  </tbody>\n",
       "</table>\n",
       "</div>"
      ],
      "text/plain": [
       "           vid                         uid  \\\n",
       "0  tZa4hs1MY3Y  UgxDRq2kfKKUdlLpBZl4AaABAg   \n",
       "1  tZa4hs1MY3Y  Ugxove78337i20X3u614AaABAg   \n",
       "2  tZa4hs1MY3Y  UgxOhb_QtgvMJ8Age_B4AaABAg   \n",
       "3  tZa4hs1MY3Y  UgwSx3EZ9UZXPwroBB54AaABAg   \n",
       "4  tZa4hs1MY3Y  Ugz1NKYar4WApnMFHyd4AaABAg   \n",
       "\n",
       "                                             content  votes  \n",
       "0  I would be shocked if the committee hasn't alr...  170.0  \n",
       "1    My favorite part of the hearing was at the end:    2.0  \n",
       "2  Her position within the west wing was specific...    4.0  \n",
       "3  \"Too good to verify\" as they say in the ABC, N...    6.0  \n",
       "4  Her “hear say” testimony would never be allowe...    1.0  "
      ]
     },
     "execution_count": 177,
     "metadata": {},
     "output_type": "execute_result"
    }
   ],
   "source": [
    "comments = pd.read_csv('Dataset/comments.csv')\n",
    "comments.head()"
   ]
  },
  {
   "cell_type": "code",
   "execution_count": 178,
   "id": "16b7915f",
   "metadata": {
    "scrolled": true
   },
   "outputs": [
    {
     "data": {
      "text/html": [
       "<div>\n",
       "<style scoped>\n",
       "    .dataframe tbody tr th:only-of-type {\n",
       "        vertical-align: middle;\n",
       "    }\n",
       "\n",
       "    .dataframe tbody tr th {\n",
       "        vertical-align: top;\n",
       "    }\n",
       "\n",
       "    .dataframe thead th {\n",
       "        text-align: right;\n",
       "    }\n",
       "</style>\n",
       "<table border=\"1\" class=\"dataframe\">\n",
       "  <thead>\n",
       "    <tr style=\"text-align: right;\">\n",
       "      <th></th>\n",
       "      <th>votes</th>\n",
       "    </tr>\n",
       "  </thead>\n",
       "  <tbody>\n",
       "    <tr>\n",
       "      <th>count</th>\n",
       "      <td>238443.000000</td>\n",
       "    </tr>\n",
       "    <tr>\n",
       "      <th>mean</th>\n",
       "      <td>248.606761</td>\n",
       "    </tr>\n",
       "    <tr>\n",
       "      <th>std</th>\n",
       "      <td>3432.461400</td>\n",
       "    </tr>\n",
       "    <tr>\n",
       "      <th>min</th>\n",
       "      <td>0.000000</td>\n",
       "    </tr>\n",
       "    <tr>\n",
       "      <th>25%</th>\n",
       "      <td>1.000000</td>\n",
       "    </tr>\n",
       "    <tr>\n",
       "      <th>50%</th>\n",
       "      <td>4.000000</td>\n",
       "    </tr>\n",
       "    <tr>\n",
       "      <th>75%</th>\n",
       "      <td>23.000000</td>\n",
       "    </tr>\n",
       "    <tr>\n",
       "      <th>max</th>\n",
       "      <td>855000.000000</td>\n",
       "    </tr>\n",
       "  </tbody>\n",
       "</table>\n",
       "</div>"
      ],
      "text/plain": [
       "               votes\n",
       "count  238443.000000\n",
       "mean      248.606761\n",
       "std      3432.461400\n",
       "min         0.000000\n",
       "25%         1.000000\n",
       "50%         4.000000\n",
       "75%        23.000000\n",
       "max    855000.000000"
      ]
     },
     "execution_count": 178,
     "metadata": {},
     "output_type": "execute_result"
    }
   ],
   "source": [
    "comments.describe()"
   ]
  },
  {
   "cell_type": "markdown",
   "id": "c6ab87af",
   "metadata": {},
   "source": [
    "## 2.1 检查重复情况\n",
    "超过一半重复"
   ]
  },
  {
   "cell_type": "code",
   "execution_count": 179,
   "id": "77fa185c",
   "metadata": {},
   "outputs": [
    {
     "data": {
      "text/plain": [
       "(238482, 4)"
      ]
     },
     "execution_count": 179,
     "metadata": {},
     "output_type": "execute_result"
    }
   ],
   "source": [
    "comments.shape"
   ]
  },
  {
   "cell_type": "code",
   "execution_count": 118,
   "id": "59c91723",
   "metadata": {},
   "outputs": [
    {
     "data": {
      "text/plain": [
       "(238482, 4)"
      ]
     },
     "execution_count": 118,
     "metadata": {},
     "output_type": "execute_result"
    }
   ],
   "source": [
    "comments = comments.drop_duplicates()\n",
    "comments.shape"
   ]
  },
  {
   "cell_type": "code",
   "execution_count": 120,
   "id": "47756efc",
   "metadata": {},
   "outputs": [],
   "source": [
    "comments.to_csv(COMMENT_PATH, index=None)"
   ]
  },
  {
   "cell_type": "markdown",
   "id": "c964db56",
   "metadata": {},
   "source": [
    "## 2.2  检查平均每个vid有几个评论\n",
    "1. vid一共4229个\n",
    "2. mean = 56条评论\n",
    "3. 大部分都是60条\n",
    "\n",
    "[x] 是否需要处理大部分60条，分布太均匀的问题？  "
   ]
  },
  {
   "cell_type": "code",
   "execution_count": 121,
   "id": "0460944b",
   "metadata": {
    "scrolled": true
   },
   "outputs": [
    {
     "data": {
      "text/plain": [
       "count    4240.000000\n",
       "mean       56.245755\n",
       "std        12.173414\n",
       "min         1.000000\n",
       "25%        60.000000\n",
       "50%        60.000000\n",
       "75%        60.000000\n",
       "max       109.000000\n",
       "Name: vid, dtype: float64"
      ]
     },
     "execution_count": 121,
     "metadata": {},
     "output_type": "execute_result"
    }
   ],
   "source": [
    "comments['vid'].value_counts().describe()"
   ]
  },
  {
   "cell_type": "code",
   "execution_count": 122,
   "id": "8dbe6afc",
   "metadata": {
    "scrolled": true
   },
   "outputs": [
    {
     "data": {
      "text/plain": [
       "<AxesSubplot:>"
      ]
     },
     "execution_count": 122,
     "metadata": {},
     "output_type": "execute_result"
    },
    {
     "data": {
      "image/png": "[encoded data removed]",
      "text/plain": [
       "<Figure size 432x288 with 1 Axes>"
      ]
     },
     "metadata": {
      "needs_background": "light"
     },
     "output_type": "display_data"
    }
   ],
   "source": [
    "comments['vid'].value_counts().hist()"
   ]
  },
  {
   "cell_type": "markdown",
   "id": "beed9a11",
   "metadata": {},
   "source": [
    "## 2.3 uid 数据\n",
    "一共236830个评论，大多数评论都只出现了一次"
   ]
  },
  {
   "cell_type": "code",
   "execution_count": 123,
   "id": "9560ab0b",
   "metadata": {
    "scrolled": true
   },
   "outputs": [
    {
     "data": {
      "text/plain": [
       "count    236839.000000\n",
       "mean          1.006929\n",
       "std           0.083103\n",
       "min           1.000000\n",
       "25%           1.000000\n",
       "50%           1.000000\n",
       "75%           1.000000\n",
       "max           3.000000\n",
       "Name: uid, dtype: float64"
      ]
     },
     "execution_count": 123,
     "metadata": {},
     "output_type": "execute_result"
    }
   ],
   "source": [
    "comments['uid'].value_counts().describe()"
   ]
  },
  {
   "cell_type": "code",
   "execution_count": 132,
   "id": "cead8a86",
   "metadata": {},
   "outputs": [
    {
     "data": {
      "text/plain": [
       "<AxesSubplot:>"
      ]
     },
     "execution_count": 132,
     "metadata": {},
     "output_type": "execute_result"
    },
    {
     "data": {
      "image/png": "[encoded data removed]",
      "text/plain": [
       "<Figure size 432x288 with 1 Axes>"
      ]
     },
     "metadata": {
      "needs_background": "light"
     },
     "output_type": "display_data"
    }
   ],
   "source": [
    "comments.uid.value_counts().hist()"
   ]
  },
  {
   "cell_type": "markdown",
   "id": "8c2566ac",
   "metadata": {},
   "source": [
    "## 2.4 comment votes"
   ]
  },
  {
   "cell_type": "code",
   "execution_count": 136,
   "id": "25638ad8",
   "metadata": {
    "scrolled": true
   },
   "outputs": [
    {
     "data": {
      "text/plain": [
       "0         170.0\n",
       "1           2.0\n",
       "2           4.0\n",
       "3           6.0\n",
       "4           1.0\n",
       "          ...  \n",
       "238477      0.0\n",
       "238478      0.0\n",
       "238479      0.0\n",
       "238480      8.0\n",
       "238481     15.0\n",
       "Name: votes, Length: 238482, dtype: float64"
      ]
     },
     "execution_count": 136,
     "metadata": {},
     "output_type": "execute_result"
    }
   ],
   "source": [
    "comments.votes"
   ]
  },
  {
   "cell_type": "code",
   "execution_count": 126,
   "id": "c2cfa89f",
   "metadata": {},
   "outputs": [],
   "source": [
    "# 处理votes\n",
    "def trans_votes(string):\n",
    "    if isinstance(string, str):\n",
    "        if 'k' == string[-1].lower():\n",
    "            return float(string[:-1])*1000\n",
    "        return float(string)\n",
    "comments['votes'] = comments['votes'].fillna('0')\n",
    "comments['votes'] = comments['votes'].apply(trans_votes)\n"
   ]
  },
  {
   "cell_type": "code",
   "execution_count": 140,
   "id": "91dd6f6b",
   "metadata": {
    "scrolled": true
   },
   "outputs": [
    {
     "data": {
      "text/plain": [
       "<AxesSubplot:>"
      ]
     },
     "execution_count": 140,
     "metadata": {},
     "output_type": "execute_result"
    },
    {
     "data": {
      "image/png": "[encoded data removed]",
      "text/plain": [
       "<Figure size 432x288 with 1 Axes>"
      ]
     },
     "metadata": {
      "needs_background": "light"
     },
     "output_type": "display_data"
    }
   ],
   "source": [
    "comments[comments.votes<50]['votes'].hist()"
   ]
  },
  {
   "cell_type": "markdown",
   "id": "a262e7b2",
   "metadata": {},
   "source": [
    "## 2.5 content"
   ]
  },
  {
   "cell_type": "code",
   "execution_count": 180,
   "id": "b02536a6",
   "metadata": {},
   "outputs": [],
   "source": [
    "comments = comments.dropna(subset=['content'])"
   ]
  },
  {
   "cell_type": "code",
   "execution_count": 181,
   "id": "80af718f",
   "metadata": {},
   "outputs": [
    {
     "data": {
      "text/plain": [
       "(238468, 4)"
      ]
     },
     "execution_count": 181,
     "metadata": {},
     "output_type": "execute_result"
    }
   ],
   "source": [
    "comments.shape"
   ]
  },
  {
   "cell_type": "code",
   "execution_count": 190,
   "id": "6811fdf6",
   "metadata": {
    "scrolled": true
   },
   "outputs": [],
   "source": [
    "import re\n",
    "pattern = re.compile('^[A-Za-z0-9.,:;!?()_*\"“”\\'’ ]+$')\n",
    "texts = list(comments['content'])\n",
    "def filter_str(desstr, restr=''):\n",
    "    res = re.compile(\"^[a-zA-Z0-9].,:;!?()_*\\\"' \")\n",
    "    return res.sub(restr, desstr)\n",
    "comments['english_content'] = comments['content'].apply(filter_str)"
   ]
  },
  {
   "cell_type": "code",
   "execution_count": 188,
   "id": "324f5742",
   "metadata": {},
   "outputs": [
    {
     "data": {
      "text/plain": [
       "'Watch - స్కూల్స్ లో ఇలాంటి భయంకరమైన వింత నియమాలు'"
      ]
     },
     "execution_count": 188,
     "metadata": {},
     "output_type": "execute_result"
    }
   ],
   "source": [
    "comments.iloc[261]['content']"
   ]
  },
  {
   "cell_type": "code",
   "execution_count": 200,
   "id": "994cf5ab",
   "metadata": {},
   "outputs": [
    {
     "data": {
      "text/plain": [
       "'Watch       '"
      ]
     },
     "execution_count": 200,
     "metadata": {},
     "output_type": "execute_result"
    }
   ],
   "source": [
    "res = re.compile(\"[^a-z^A-Z^0-9^.^,^:^;^!^?^(^)^_^*^\\\"^' ]\")\n",
    "a = res.sub('', 'Watch - స్కూల్స్ లో ఇలాంటి భయంకరమైన వింత నియమాలు')\n",
    "a"
   ]
  },
  {
   "cell_type": "code",
   "execution_count": 185,
   "id": "5043b471",
   "metadata": {},
   "outputs": [
    {
     "data": {
      "text/html": [
       "<div>\n",
       "<style scoped>\n",
       "    .dataframe tbody tr th:only-of-type {\n",
       "        vertical-align: middle;\n",
       "    }\n",
       "\n",
       "    .dataframe tbody tr th {\n",
       "        vertical-align: top;\n",
       "    }\n",
       "\n",
       "    .dataframe thead th {\n",
       "        text-align: right;\n",
       "    }\n",
       "</style>\n",
       "<table border=\"1\" class=\"dataframe\">\n",
       "  <thead>\n",
       "    <tr style=\"text-align: right;\">\n",
       "      <th></th>\n",
       "      <th>vid</th>\n",
       "      <th>uid</th>\n",
       "      <th>content</th>\n",
       "      <th>votes</th>\n",
       "      <th>english_content</th>\n",
       "    </tr>\n",
       "  </thead>\n",
       "  <tbody>\n",
       "    <tr>\n",
       "      <th>0</th>\n",
       "      <td>tZa4hs1MY3Y</td>\n",
       "      <td>UgxDRq2kfKKUdlLpBZl4AaABAg</td>\n",
       "      <td>I would be shocked if the committee hasn't alr...</td>\n",
       "      <td>170.0</td>\n",
       "      <td>I would be shocked if the committee hasn't alr...</td>\n",
       "    </tr>\n",
       "    <tr>\n",
       "      <th>1</th>\n",
       "      <td>tZa4hs1MY3Y</td>\n",
       "      <td>Ugxove78337i20X3u614AaABAg</td>\n",
       "      <td>My favorite part of the hearing was at the end:</td>\n",
       "      <td>2.0</td>\n",
       "      <td>My favorite part of the hearing was at the end:</td>\n",
       "    </tr>\n",
       "    <tr>\n",
       "      <th>2</th>\n",
       "      <td>tZa4hs1MY3Y</td>\n",
       "      <td>UgxOhb_QtgvMJ8Age_B4AaABAg</td>\n",
       "      <td>Her position within the west wing was specific...</td>\n",
       "      <td>4.0</td>\n",
       "      <td>Her position within the west wing was specific...</td>\n",
       "    </tr>\n",
       "    <tr>\n",
       "      <th>3</th>\n",
       "      <td>tZa4hs1MY3Y</td>\n",
       "      <td>UgwSx3EZ9UZXPwroBB54AaABAg</td>\n",
       "      <td>\"Too good to verify\" as they say in the ABC, N...</td>\n",
       "      <td>6.0</td>\n",
       "      <td>\"Too good to verify\" as they say in the ABC, N...</td>\n",
       "    </tr>\n",
       "    <tr>\n",
       "      <th>4</th>\n",
       "      <td>tZa4hs1MY3Y</td>\n",
       "      <td>Ugz1NKYar4WApnMFHyd4AaABAg</td>\n",
       "      <td>Her “hear say” testimony would never be allowe...</td>\n",
       "      <td>1.0</td>\n",
       "      <td>Her “hear say” testimony would never be allowe...</td>\n",
       "    </tr>\n",
       "  </tbody>\n",
       "</table>\n",
       "</div>"
      ],
      "text/plain": [
       "           vid                         uid  \\\n",
       "0  tZa4hs1MY3Y  UgxDRq2kfKKUdlLpBZl4AaABAg   \n",
       "1  tZa4hs1MY3Y  Ugxove78337i20X3u614AaABAg   \n",
       "2  tZa4hs1MY3Y  UgxOhb_QtgvMJ8Age_B4AaABAg   \n",
       "3  tZa4hs1MY3Y  UgwSx3EZ9UZXPwroBB54AaABAg   \n",
       "4  tZa4hs1MY3Y  Ugz1NKYar4WApnMFHyd4AaABAg   \n",
       "\n",
       "                                             content  votes  \\\n",
       "0  I would be shocked if the committee hasn't alr...  170.0   \n",
       "1    My favorite part of the hearing was at the end:    2.0   \n",
       "2  Her position within the west wing was specific...    4.0   \n",
       "3  \"Too good to verify\" as they say in the ABC, N...    6.0   \n",
       "4  Her “hear say” testimony would never be allowe...    1.0   \n",
       "\n",
       "                                     english_content  \n",
       "0  I would be shocked if the committee hasn't alr...  \n",
       "1    My favorite part of the hearing was at the end:  \n",
       "2  Her position within the west wing was specific...  \n",
       "3  \"Too good to verify\" as they say in the ABC, N...  \n",
       "4  Her “hear say” testimony would never be allowe...  "
      ]
     },
     "execution_count": 185,
     "metadata": {},
     "output_type": "execute_result"
    }
   ],
   "source": [
    "comments.head()"
   ]
  },
  {
   "cell_type": "code",
   "execution_count": 186,
   "id": "497a2c9b",
   "metadata": {},
   "outputs": [],
   "source": [
    "comments.to_csv('comments.csv', index = None)"
   ]
  }
 ],
 "metadata": {
  "kernelspec": {
   "display_name": "Python [conda env:deeplearning]",
   "language": "python",
   "name": "conda-env-deeplearning-py"
  },
  "language_info": {
   "codemirror_mode": {
    "name": "ipython",
    "version": 3
   },
   "file_extension": ".py",
   "mimetype": "text/x-python",
   "name": "python",
   "nbconvert_exporter": "python",
   "pygments_lexer": "ipython3",
   "version": "3.9.2"
  }
 },
 "nbformat": 4,
 "nbformat_minor": 5
}
