{
 "cells": [
  {
   "cell_type": "code",
   "execution_count": 14,
   "id": "9c2a060f",
   "metadata": {},
   "outputs": [],
   "source": [
    "import os\n",
    "import numpy as np\n",
    "import pandas as pd\n",
    "import csv\n",
    "COMMENT_PATH = 'Dataset/comments.csv'\n",
    "TRANSCRIPT_FOLDER = \"Dataset/Transcripts/\"\n",
    "INFO_PATH = \"Dataset/infos.csv\"\n",
    "LOG_ERROR_PATH = \"DataCollection/error_log.csv\"\n",
    "LOG_SUCCESS_PATH = \"DataCollection/success_log.csv\""
   ]
  },
  {
   "cell_type": "markdown",
   "id": "700c24fc",
   "metadata": {},
   "source": [
    "# 1. Clean empty file\n",
    "* 清除没有comment / transcript的数据"
   ]
  },
  {
   "cell_type": "code",
   "execution_count": 2,
   "id": "90355ba5",
   "metadata": {
    "scrolled": true
   },
   "outputs": [],
   "source": [
    "comment_df = pd.read_csv(COMMENT_PATH)\n",
    "info_df = pd.read_csv(INFO_PATH)"
   ]
  },
  {
   "cell_type": "code",
   "execution_count": 3,
   "id": "59b11ba4",
   "metadata": {},
   "outputs": [
    {
     "data": {
      "text/html": [
       "<div>\n",
       "<style scoped>\n",
       "    .dataframe tbody tr th:only-of-type {\n",
       "        vertical-align: middle;\n",
       "    }\n",
       "\n",
       "    .dataframe tbody tr th {\n",
       "        vertical-align: top;\n",
       "    }\n",
       "\n",
       "    .dataframe thead th {\n",
       "        text-align: right;\n",
       "    }\n",
       "</style>\n",
       "<table border=\"1\" class=\"dataframe\">\n",
       "  <thead>\n",
       "    <tr style=\"text-align: right;\">\n",
       "      <th></th>\n",
       "      <th>vid</th>\n",
       "      <th>uid</th>\n",
       "      <th>content</th>\n",
       "      <th>votes</th>\n",
       "    </tr>\n",
       "  </thead>\n",
       "  <tbody>\n",
       "    <tr>\n",
       "      <th>count</th>\n",
       "      <td>481821</td>\n",
       "      <td>481821</td>\n",
       "      <td>481817</td>\n",
       "      <td>389255</td>\n",
       "    </tr>\n",
       "    <tr>\n",
       "      <th>unique</th>\n",
       "      <td>4229</td>\n",
       "      <td>236830</td>\n",
       "      <td>220950</td>\n",
       "      <td>1191</td>\n",
       "    </tr>\n",
       "    <tr>\n",
       "      <th>top</th>\n",
       "      <td>wlCz8nkDNqo</td>\n",
       "      <td>UgxXGMg96x9dS7ZcJut4AaABAg</td>\n",
       "      <td>❤</td>\n",
       "      <td>1</td>\n",
       "    </tr>\n",
       "    <tr>\n",
       "      <th>freq</th>\n",
       "      <td>480</td>\n",
       "      <td>12</td>\n",
       "      <td>769</td>\n",
       "      <td>52884</td>\n",
       "    </tr>\n",
       "  </tbody>\n",
       "</table>\n",
       "</div>"
      ],
      "text/plain": [
       "                vid                         uid content   votes\n",
       "count        481821                      481821  481817  389255\n",
       "unique         4229                      236830  220950    1191\n",
       "top     wlCz8nkDNqo  UgxXGMg96x9dS7ZcJut4AaABAg       ❤       1\n",
       "freq            480                          12     769   52884"
      ]
     },
     "execution_count": 3,
     "metadata": {},
     "output_type": "execute_result"
    }
   ],
   "source": [
    "comment_df.describe()"
   ]
  },
  {
   "cell_type": "code",
   "execution_count": 4,
   "id": "80366a77",
   "metadata": {},
   "outputs": [
    {
     "data": {
      "text/plain": [
       "(481821, 4)"
      ]
     },
     "execution_count": 4,
     "metadata": {},
     "output_type": "execute_result"
    }
   ],
   "source": [
    "comment_df.shape"
   ]
  },
  {
   "cell_type": "code",
   "execution_count": 5,
   "id": "7bb8b131",
   "metadata": {},
   "outputs": [],
   "source": [
    "comment_df = comment_df.drop_duplicates(['uid', 'content'])"
   ]
  },
  {
   "cell_type": "code",
   "execution_count": 6,
   "id": "7f8803ce",
   "metadata": {
    "scrolled": true
   },
   "outputs": [
    {
     "data": {
      "text/plain": [
       "(4410, 7)"
      ]
     },
     "execution_count": 6,
     "metadata": {},
     "output_type": "execute_result"
    }
   ],
   "source": [
    "cleaned_info_df = info_df[info_df['vid'].isin(comment_df['vid'])]\n",
    "cleaned_info_df.shape"
   ]
  },
  {
   "cell_type": "code",
   "execution_count": 7,
   "id": "2eed8aa0",
   "metadata": {},
   "outputs": [],
   "source": [
    "# transcript 有1800+个video是空的\n",
    "empty_vids = set()\n",
    "for file in os.listdir(TRANSCRIPT_FOLDER):\n",
    "    if file == '.DS_Store':\n",
    "        continue\n",
    "    with open(os.path.join(TRANSCRIPT_FOLDER, file), 'r')as f:\n",
    "        lines = f.readlines()\n",
    "        if len(lines) <= 5:\n",
    "            vid = file.split('.')[0]\n",
    "            empty_vids.add(vid)"
   ]
  },
  {
   "cell_type": "code",
   "execution_count": 8,
   "id": "87019580",
   "metadata": {},
   "outputs": [
    {
     "name": "stderr",
     "output_type": "stream",
     "text": [
      "<ipython-input-8-8912f1cf3b77>:1: UserWarning: Boolean Series key will be reindexed to match DataFrame index.\n",
      "  cleaned_info_df = cleaned_info_df[~info_df['vid'].isin(empty_vids)]\n"
     ]
    }
   ],
   "source": [
    "cleaned_info_df = cleaned_info_df[~info_df['vid'].isin(empty_vids)]"
   ]
  },
  {
   "cell_type": "code",
   "execution_count": 9,
   "id": "4ac8a5b3",
   "metadata": {},
   "outputs": [
    {
     "data": {
      "text/plain": [
       "(2523, 7)"
      ]
     },
     "execution_count": 9,
     "metadata": {},
     "output_type": "execute_result"
    }
   ],
   "source": [
    "deleted_infos = info_df[~info_df['vid'].isin(cleaned_info_df['vid'])]\n",
    "deleted_infos.shape"
   ]
  },
  {
   "cell_type": "code",
   "execution_count": 10,
   "id": "c478d022",
   "metadata": {},
   "outputs": [
    {
     "data": {
      "text/plain": [
       "(2860, 7)"
      ]
     },
     "execution_count": 10,
     "metadata": {},
     "output_type": "execute_result"
    }
   ],
   "source": [
    "cleaned_info_df.shape"
   ]
  },
  {
   "cell_type": "code",
   "execution_count": 11,
   "id": "d3f8fd21",
   "metadata": {},
   "outputs": [
    {
     "data": {
      "text/plain": [
       "(2740, 7)"
      ]
     },
     "execution_count": 11,
     "metadata": {},
     "output_type": "execute_result"
    }
   ],
   "source": [
    "cleaned_info_df = cleaned_info_df.drop_duplicates(['vid'])\n",
    "cleaned_info_df.shape"
   ]
  },
  {
   "cell_type": "code",
   "execution_count": 12,
   "id": "e8ba23e7",
   "metadata": {},
   "outputs": [],
   "source": [
    "\n",
    "cleaned_info_df.to_csv('info.csv', index=None)"
   ]
  },
  {
   "cell_type": "markdown",
   "id": "d9c859c8",
   "metadata": {},
   "source": [
    "## 1.2 清理空数据之后的分类结果\n",
    "1. News和Education 最多，都超过300了"
   ]
  },
  {
   "cell_type": "code",
   "execution_count": 13,
   "id": "9ca02e11",
   "metadata": {
    "scrolled": false
   },
   "outputs": [
    {
     "data": {
      "text/plain": [
       "Education        376\n",
       "News             372\n",
       "Vlog             231\n",
       "Music            221\n",
       "Fashion          218\n",
       "Art              194\n",
       "Sport            176\n",
       "Game             171\n",
       "Entertainment    161\n",
       "Tech             160\n",
       "Food             127\n",
       "Motivation       116\n",
       "Name: tag, dtype: int64"
      ]
     },
     "execution_count": 13,
     "metadata": {},
     "output_type": "execute_result"
    }
   ],
   "source": [
    "deleted_infos['tag'].value_counts()"
   ]
  },
  {
   "cell_type": "code",
   "execution_count": 14,
   "id": "492b9f4b",
   "metadata": {
    "scrolled": true
   },
   "outputs": [
    {
     "data": {
      "text/plain": [
       "<AxesSubplot:>"
      ]
     },
     "execution_count": 14,
     "metadata": {},
     "output_type": "execute_result"
    },
    {
     "data": {
      "image/png": "[encoded data removed]",
      "text/plain": [
       "<Figure size 432x288 with 1 Axes>"
      ]
     },
     "metadata": {
      "needs_background": "light"
     },
     "output_type": "display_data"
    }
   ],
   "source": [
    "deleted_infos['tag'].hist()"
   ]
  },
  {
   "cell_type": "markdown",
   "id": "d8438f96",
   "metadata": {},
   "source": [
    "# 2. Video Information Profile\n",
    "* 每个属性的nan情况\n",
    "* tag的分布\n",
    "* 发布时间\n",
    "* views需要处理成数据\n",
    "\n",
    " 原来有5283个video"
   ]
  },
  {
   "cell_type": "code",
   "execution_count": 15,
   "id": "c6c1dac3",
   "metadata": {},
   "outputs": [
    {
     "data": {
      "text/html": [
       "<div>\n",
       "<style scoped>\n",
       "    .dataframe tbody tr th:only-of-type {\n",
       "        vertical-align: middle;\n",
       "    }\n",
       "\n",
       "    .dataframe tbody tr th {\n",
       "        vertical-align: top;\n",
       "    }\n",
       "\n",
       "    .dataframe thead th {\n",
       "        text-align: right;\n",
       "    }\n",
       "</style>\n",
       "<table border=\"1\" class=\"dataframe\">\n",
       "  <thead>\n",
       "    <tr style=\"text-align: right;\">\n",
       "      <th></th>\n",
       "      <th>vid</th>\n",
       "      <th>title</th>\n",
       "      <th>tag</th>\n",
       "      <th>time</th>\n",
       "      <th>duration</th>\n",
       "      <th>views</th>\n",
       "      <th>link</th>\n",
       "    </tr>\n",
       "  </thead>\n",
       "  <tbody>\n",
       "    <tr>\n",
       "      <th>count</th>\n",
       "      <td>2740</td>\n",
       "      <td>2740</td>\n",
       "      <td>2740</td>\n",
       "      <td>2740</td>\n",
       "      <td>2740</td>\n",
       "      <td>2738</td>\n",
       "      <td>2740</td>\n",
       "    </tr>\n",
       "    <tr>\n",
       "      <th>unique</th>\n",
       "      <td>2740</td>\n",
       "      <td>2734</td>\n",
       "      <td>12</td>\n",
       "      <td>89</td>\n",
       "      <td>1481</td>\n",
       "      <td>2735</td>\n",
       "      <td>2740</td>\n",
       "    </tr>\n",
       "    <tr>\n",
       "      <th>top</th>\n",
       "      <td>syvOBw0JFyQ</td>\n",
       "      <td>I Went UNDERCOVER in Nick Eh 30's Fashion Show!</td>\n",
       "      <td>Tech</td>\n",
       "      <td>1 month ago</td>\n",
       "      <td>1:00</td>\n",
       "      <td>471,298 views</td>\n",
       "      <td>https://www.youtube.com/watch?v=HMYcI90njDw</td>\n",
       "    </tr>\n",
       "    <tr>\n",
       "      <th>freq</th>\n",
       "      <td>1</td>\n",
       "      <td>2</td>\n",
       "      <td>306</td>\n",
       "      <td>252</td>\n",
       "      <td>25</td>\n",
       "      <td>2</td>\n",
       "      <td>1</td>\n",
       "    </tr>\n",
       "  </tbody>\n",
       "</table>\n",
       "</div>"
      ],
      "text/plain": [
       "                vid                                            title   tag  \\\n",
       "count          2740                                             2740  2740   \n",
       "unique         2740                                             2734    12   \n",
       "top     syvOBw0JFyQ  I Went UNDERCOVER in Nick Eh 30's Fashion Show!  Tech   \n",
       "freq              1                                                2   306   \n",
       "\n",
       "               time duration          views  \\\n",
       "count          2740     2740           2738   \n",
       "unique           89     1481           2735   \n",
       "top     1 month ago     1:00  471,298 views   \n",
       "freq            252       25              2   \n",
       "\n",
       "                                               link  \n",
       "count                                          2740  \n",
       "unique                                         2740  \n",
       "top     https://www.youtube.com/watch?v=HMYcI90njDw  \n",
       "freq                                              1  "
      ]
     },
     "execution_count": 15,
     "metadata": {},
     "output_type": "execute_result"
    }
   ],
   "source": [
    "infos = pd.read_csv(\"info.csv\")\n",
    "infos.describe()"
   ]
  },
  {
   "cell_type": "markdown",
   "id": "51d7ce99",
   "metadata": {},
   "source": [
    "## 2.1 duration"
   ]
  },
  {
   "cell_type": "code",
   "execution_count": 16,
   "id": "33e55eae",
   "metadata": {
    "scrolled": true
   },
   "outputs": [
    {
     "data": {
      "text/plain": [
       "0       3:11\n",
       "1       8:35\n",
       "2       3:46\n",
       "3       1:41\n",
       "4       2:41\n",
       "        ... \n",
       "2735    3:27\n",
       "2736    4:57\n",
       "2737    3:08\n",
       "2738    2:32\n",
       "2739    3:42\n",
       "Name: duration, Length: 2740, dtype: object"
      ]
     },
     "execution_count": 16,
     "metadata": {},
     "output_type": "execute_result"
    }
   ],
   "source": [
    "infos['duration']"
   ]
  },
  {
   "cell_type": "code",
   "execution_count": 17,
   "id": "44ea1f50",
   "metadata": {},
   "outputs": [
    {
     "data": {
      "text/plain": [
       "count    2740.000000\n",
       "mean       18.942701\n",
       "std        35.841803\n",
       "min         0.216667\n",
       "25%         6.083333\n",
       "50%        11.500000\n",
       "75%        19.450000\n",
       "max       801.566667\n",
       "Name: duration, dtype: float64"
      ]
     },
     "execution_count": 17,
     "metadata": {},
     "output_type": "execute_result"
    }
   ],
   "source": [
    "def trans_duration(string):\n",
    "    miniute, second = string.split(':')[-2], string.split(':')[-1]\n",
    "    if len(string.split(':')) == 3:\n",
    "        hour = string.split(':')[0]\n",
    "    else:\n",
    "        hour = 0\n",
    "    return (int(hour)* 3600 + int(miniute)*60 + int(second))/60\n",
    "infos['duration'] = infos['duration'].apply(trans_duration)\n",
    "infos['duration'].describe()"
   ]
  },
  {
   "cell_type": "code",
   "execution_count": 18,
   "id": "0f2df290",
   "metadata": {
    "scrolled": true
   },
   "outputs": [
    {
     "data": {
      "text/html": [
       "<div>\n",
       "<style scoped>\n",
       "    .dataframe tbody tr th:only-of-type {\n",
       "        vertical-align: middle;\n",
       "    }\n",
       "\n",
       "    .dataframe tbody tr th {\n",
       "        vertical-align: top;\n",
       "    }\n",
       "\n",
       "    .dataframe thead th {\n",
       "        text-align: right;\n",
       "    }\n",
       "</style>\n",
       "<table border=\"1\" class=\"dataframe\">\n",
       "  <thead>\n",
       "    <tr style=\"text-align: right;\">\n",
       "      <th></th>\n",
       "      <th>duration</th>\n",
       "    </tr>\n",
       "  </thead>\n",
       "  <tbody>\n",
       "    <tr>\n",
       "      <th>count</th>\n",
       "      <td>2086.000000</td>\n",
       "    </tr>\n",
       "    <tr>\n",
       "      <th>mean</th>\n",
       "      <td>9.254666</td>\n",
       "    </tr>\n",
       "    <tr>\n",
       "      <th>std</th>\n",
       "      <td>5.196186</td>\n",
       "    </tr>\n",
       "    <tr>\n",
       "      <th>min</th>\n",
       "      <td>0.216667</td>\n",
       "    </tr>\n",
       "    <tr>\n",
       "      <th>25%</th>\n",
       "      <td>4.583333</td>\n",
       "    </tr>\n",
       "    <tr>\n",
       "      <th>50%</th>\n",
       "      <td>9.116667</td>\n",
       "    </tr>\n",
       "    <tr>\n",
       "      <th>75%</th>\n",
       "      <td>13.262500</td>\n",
       "    </tr>\n",
       "    <tr>\n",
       "      <th>max</th>\n",
       "      <td>19.983333</td>\n",
       "    </tr>\n",
       "  </tbody>\n",
       "</table>\n",
       "</div>"
      ],
      "text/plain": [
       "          duration\n",
       "count  2086.000000\n",
       "mean      9.254666\n",
       "std       5.196186\n",
       "min       0.216667\n",
       "25%       4.583333\n",
       "50%       9.116667\n",
       "75%      13.262500\n",
       "max      19.983333"
      ]
     },
     "execution_count": 18,
     "metadata": {},
     "output_type": "execute_result"
    }
   ],
   "source": [
    "infos = infos[infos['duration'] < 20]\n",
    "infos.describe()"
   ]
  },
  {
   "cell_type": "markdown",
   "id": "e683ac5a",
   "metadata": {},
   "source": [
    "## 2.2 views"
   ]
  },
  {
   "cell_type": "code",
   "execution_count": 19,
   "id": "777e60ba",
   "metadata": {
    "scrolled": true
   },
   "outputs": [
    {
     "data": {
      "text/plain": [
       "0          143,423 views\n",
       "1        1,129,023 views\n",
       "2           73,366 views\n",
       "3          122,448 views\n",
       "4          309,045 views\n",
       "              ...       \n",
       "2735         1,261 views\n",
       "2736       806,112 views\n",
       "2737    37,929,473 views\n",
       "2738     1,095,318 views\n",
       "2739       335,583 views\n",
       "Name: views, Length: 2086, dtype: object"
      ]
     },
     "execution_count": 19,
     "metadata": {},
     "output_type": "execute_result"
    }
   ],
   "source": [
    "infos.views"
   ]
  },
  {
   "cell_type": "code",
   "execution_count": 20,
   "id": "be9ebeed",
   "metadata": {},
   "outputs": [],
   "source": [
    "def trans_views(string):\n",
    "    try:\n",
    "        return int(string.strip('views').replace(',',''))/10000\n",
    "    except:\n",
    "        return \n",
    "infos['view_10k'] = infos['views'].apply(trans_views)"
   ]
  },
  {
   "cell_type": "code",
   "execution_count": 21,
   "id": "d1210fb2",
   "metadata": {
    "scrolled": true
   },
   "outputs": [
    {
     "data": {
      "text/plain": [
       "0         14.3423\n",
       "1        112.9023\n",
       "2          7.3366\n",
       "3         12.2448\n",
       "4         30.9045\n",
       "          ...    \n",
       "2735       0.1261\n",
       "2736      80.6112\n",
       "2737    3792.9473\n",
       "2738     109.5318\n",
       "2739      33.5583\n",
       "Name: view_10k, Length: 2086, dtype: float64"
      ]
     },
     "execution_count": 21,
     "metadata": {},
     "output_type": "execute_result"
    }
   ],
   "source": [
    "infos['view_10k']"
   ]
  },
  {
   "cell_type": "code",
   "execution_count": 22,
   "id": "ce7187eb",
   "metadata": {},
   "outputs": [
    {
     "data": {
      "text/plain": [
       "array([[<AxesSubplot:title={'center':'duration'}>,\n",
       "        <AxesSubplot:title={'center':'view_10k'}>]], dtype=object)"
      ]
     },
     "execution_count": 22,
     "metadata": {},
     "output_type": "execute_result"
    },
    {
     "data": {
      "image/png": "[encoded data removed]",
      "text/plain": [
       "<Figure size 432x288 with 2 Axes>"
      ]
     },
     "metadata": {
      "needs_background": "light"
     },
     "output_type": "display_data"
    }
   ],
   "source": [
    "infos.hist()"
   ]
  },
  {
   "cell_type": "code",
   "execution_count": 23,
   "id": "bb33976c",
   "metadata": {},
   "outputs": [],
   "source": [
    "infos.to_csv('new_infos.csv', index = None)"
   ]
  },
  {
   "cell_type": "code",
   "execution_count": 24,
   "id": "19e3c743",
   "metadata": {},
   "outputs": [
    {
     "data": {
      "text/html": [
       "<div>\n",
       "<style scoped>\n",
       "    .dataframe tbody tr th:only-of-type {\n",
       "        vertical-align: middle;\n",
       "    }\n",
       "\n",
       "    .dataframe tbody tr th {\n",
       "        vertical-align: top;\n",
       "    }\n",
       "\n",
       "    .dataframe thead th {\n",
       "        text-align: right;\n",
       "    }\n",
       "</style>\n",
       "<table border=\"1\" class=\"dataframe\">\n",
       "  <thead>\n",
       "    <tr style=\"text-align: right;\">\n",
       "      <th></th>\n",
       "      <th>vid</th>\n",
       "      <th>title</th>\n",
       "      <th>tag</th>\n",
       "      <th>time</th>\n",
       "      <th>duration_min</th>\n",
       "      <th>views</th>\n",
       "      <th>link</th>\n",
       "      <th>view_10k</th>\n",
       "    </tr>\n",
       "  </thead>\n",
       "  <tbody>\n",
       "    <tr>\n",
       "      <th>0</th>\n",
       "      <td>tZa4hs1MY3Y</td>\n",
       "      <td>Secret Service pushes back on allegations in r...</td>\n",
       "      <td>News</td>\n",
       "      <td>1 day ago</td>\n",
       "      <td>3.183333</td>\n",
       "      <td>143,423 views</td>\n",
       "      <td>https://www.youtube.com/watch?v=tZa4hs1MY3Y</td>\n",
       "      <td>14.3423</td>\n",
       "    </tr>\n",
       "    <tr>\n",
       "      <th>1</th>\n",
       "      <td>oOcZRxBwZ1k</td>\n",
       "      <td>Trump Coup Nightmare: See The Moment Fox News ...</td>\n",
       "      <td>News</td>\n",
       "      <td>15 hours ago</td>\n",
       "      <td>8.583333</td>\n",
       "      <td>1,129,023 views</td>\n",
       "      <td>https://www.youtube.com/watch?v=oOcZRxBwZ1k</td>\n",
       "      <td>112.9023</td>\n",
       "    </tr>\n",
       "    <tr>\n",
       "      <th>2</th>\n",
       "      <td>jLkqmXmkVkE</td>\n",
       "      <td>Putin warns after Finland and Sweden invited t...</td>\n",
       "      <td>News</td>\n",
       "      <td>15 hours ago</td>\n",
       "      <td>3.766667</td>\n",
       "      <td>73,366 views</td>\n",
       "      <td>https://www.youtube.com/watch?v=jLkqmXmkVkE</td>\n",
       "      <td>7.3366</td>\n",
       "    </tr>\n",
       "    <tr>\n",
       "      <th>3</th>\n",
       "      <td>t2nu91KU25g</td>\n",
       "      <td>Biden loses Supreme Court ruling as court rein...</td>\n",
       "      <td>News</td>\n",
       "      <td>1 hour ago</td>\n",
       "      <td>1.683333</td>\n",
       "      <td>122,448 views</td>\n",
       "      <td>https://www.youtube.com/watch?v=t2nu91KU25g</td>\n",
       "      <td>12.2448</td>\n",
       "    </tr>\n",
       "    <tr>\n",
       "      <th>4</th>\n",
       "      <td>tSJf6KEC5qc</td>\n",
       "      <td>India state on alert after Prophet Muhammad ro...</td>\n",
       "      <td>News</td>\n",
       "      <td>23 hours ago</td>\n",
       "      <td>2.683333</td>\n",
       "      <td>309,045 views</td>\n",
       "      <td>https://www.youtube.com/watch?v=tSJf6KEC5qc</td>\n",
       "      <td>30.9045</td>\n",
       "    </tr>\n",
       "  </tbody>\n",
       "</table>\n",
       "</div>"
      ],
      "text/plain": [
       "           vid                                              title   tag  \\\n",
       "0  tZa4hs1MY3Y  Secret Service pushes back on allegations in r...  News   \n",
       "1  oOcZRxBwZ1k  Trump Coup Nightmare: See The Moment Fox News ...  News   \n",
       "2  jLkqmXmkVkE  Putin warns after Finland and Sweden invited t...  News   \n",
       "3  t2nu91KU25g  Biden loses Supreme Court ruling as court rein...  News   \n",
       "4  tSJf6KEC5qc  India state on alert after Prophet Muhammad ro...  News   \n",
       "\n",
       "           time  duration_min            views  \\\n",
       "0     1 day ago      3.183333    143,423 views   \n",
       "1  15 hours ago      8.583333  1,129,023 views   \n",
       "2  15 hours ago      3.766667     73,366 views   \n",
       "3    1 hour ago      1.683333    122,448 views   \n",
       "4  23 hours ago      2.683333    309,045 views   \n",
       "\n",
       "                                          link  view_10k  \n",
       "0  https://www.youtube.com/watch?v=tZa4hs1MY3Y   14.3423  \n",
       "1  https://www.youtube.com/watch?v=oOcZRxBwZ1k  112.9023  \n",
       "2  https://www.youtube.com/watch?v=jLkqmXmkVkE    7.3366  \n",
       "3  https://www.youtube.com/watch?v=t2nu91KU25g   12.2448  \n",
       "4  https://www.youtube.com/watch?v=tSJf6KEC5qc   30.9045  "
      ]
     },
     "execution_count": 24,
     "metadata": {},
     "output_type": "execute_result"
    }
   ],
   "source": [
    "infos = pd.read_csv(\"new_infos.csv\")\n",
    "infos.head()"
   ]
  },
  {
   "cell_type": "markdown",
   "id": "12e6bcc9",
   "metadata": {},
   "source": [
    "## 3. Comment"
   ]
  },
  {
   "cell_type": "code",
   "execution_count": 262,
   "id": "d2043cd5",
   "metadata": {
    "scrolled": false
   },
   "outputs": [
    {
     "data": {
      "text/html": [
       "<div>\n",
       "<style scoped>\n",
       "    .dataframe tbody tr th:only-of-type {\n",
       "        vertical-align: middle;\n",
       "    }\n",
       "\n",
       "    .dataframe tbody tr th {\n",
       "        vertical-align: top;\n",
       "    }\n",
       "\n",
       "    .dataframe thead th {\n",
       "        text-align: right;\n",
       "    }\n",
       "</style>\n",
       "<table border=\"1\" class=\"dataframe\">\n",
       "  <thead>\n",
       "    <tr style=\"text-align: right;\">\n",
       "      <th></th>\n",
       "      <th>vid</th>\n",
       "      <th>uid</th>\n",
       "      <th>content</th>\n",
       "      <th>votes</th>\n",
       "    </tr>\n",
       "  </thead>\n",
       "  <tbody>\n",
       "    <tr>\n",
       "      <th>0</th>\n",
       "      <td>tZa4hs1MY3Y</td>\n",
       "      <td>UgxDRq2kfKKUdlLpBZl4AaABAg</td>\n",
       "      <td>I would be shocked if the committee hasn't alr...</td>\n",
       "      <td>170.0</td>\n",
       "    </tr>\n",
       "    <tr>\n",
       "      <th>1</th>\n",
       "      <td>tZa4hs1MY3Y</td>\n",
       "      <td>Ugxove78337i20X3u614AaABAg</td>\n",
       "      <td>My favorite part of the hearing was at the end:</td>\n",
       "      <td>2.0</td>\n",
       "    </tr>\n",
       "    <tr>\n",
       "      <th>2</th>\n",
       "      <td>tZa4hs1MY3Y</td>\n",
       "      <td>UgxOhb_QtgvMJ8Age_B4AaABAg</td>\n",
       "      <td>Her position within the west wing was specific...</td>\n",
       "      <td>4.0</td>\n",
       "    </tr>\n",
       "    <tr>\n",
       "      <th>3</th>\n",
       "      <td>tZa4hs1MY3Y</td>\n",
       "      <td>UgwSx3EZ9UZXPwroBB54AaABAg</td>\n",
       "      <td>\"Too good to verify\" as they say in the ABC, N...</td>\n",
       "      <td>6.0</td>\n",
       "    </tr>\n",
       "    <tr>\n",
       "      <th>4</th>\n",
       "      <td>tZa4hs1MY3Y</td>\n",
       "      <td>Ugz1NKYar4WApnMFHyd4AaABAg</td>\n",
       "      <td>Her “hear say” testimony would never be allowe...</td>\n",
       "      <td>1.0</td>\n",
       "    </tr>\n",
       "  </tbody>\n",
       "</table>\n",
       "</div>"
      ],
      "text/plain": [
       "           vid                         uid  \\\n",
       "0  tZa4hs1MY3Y  UgxDRq2kfKKUdlLpBZl4AaABAg   \n",
       "1  tZa4hs1MY3Y  Ugxove78337i20X3u614AaABAg   \n",
       "2  tZa4hs1MY3Y  UgxOhb_QtgvMJ8Age_B4AaABAg   \n",
       "3  tZa4hs1MY3Y  UgwSx3EZ9UZXPwroBB54AaABAg   \n",
       "4  tZa4hs1MY3Y  Ugz1NKYar4WApnMFHyd4AaABAg   \n",
       "\n",
       "                                             content  votes  \n",
       "0  I would be shocked if the committee hasn't alr...  170.0  \n",
       "1    My favorite part of the hearing was at the end:    2.0  \n",
       "2  Her position within the west wing was specific...    4.0  \n",
       "3  \"Too good to verify\" as they say in the ABC, N...    6.0  \n",
       "4  Her “hear say” testimony would never be allowe...    1.0  "
      ]
     },
     "execution_count": 262,
     "metadata": {},
     "output_type": "execute_result"
    }
   ],
   "source": [
    "comments = pd.read_csv('Dataset/comments.csv')\n",
    "comments.head()"
   ]
  },
  {
   "cell_type": "code",
   "execution_count": 263,
   "id": "16b7915f",
   "metadata": {
    "scrolled": true
   },
   "outputs": [
    {
     "data": {
      "text/html": [
       "<div>\n",
       "<style scoped>\n",
       "    .dataframe tbody tr th:only-of-type {\n",
       "        vertical-align: middle;\n",
       "    }\n",
       "\n",
       "    .dataframe tbody tr th {\n",
       "        vertical-align: top;\n",
       "    }\n",
       "\n",
       "    .dataframe thead th {\n",
       "        text-align: right;\n",
       "    }\n",
       "</style>\n",
       "<table border=\"1\" class=\"dataframe\">\n",
       "  <thead>\n",
       "    <tr style=\"text-align: right;\">\n",
       "      <th></th>\n",
       "      <th>votes</th>\n",
       "    </tr>\n",
       "  </thead>\n",
       "  <tbody>\n",
       "    <tr>\n",
       "      <th>count</th>\n",
       "      <td>238443.000000</td>\n",
       "    </tr>\n",
       "    <tr>\n",
       "      <th>mean</th>\n",
       "      <td>248.606761</td>\n",
       "    </tr>\n",
       "    <tr>\n",
       "      <th>std</th>\n",
       "      <td>3432.461400</td>\n",
       "    </tr>\n",
       "    <tr>\n",
       "      <th>min</th>\n",
       "      <td>0.000000</td>\n",
       "    </tr>\n",
       "    <tr>\n",
       "      <th>25%</th>\n",
       "      <td>1.000000</td>\n",
       "    </tr>\n",
       "    <tr>\n",
       "      <th>50%</th>\n",
       "      <td>4.000000</td>\n",
       "    </tr>\n",
       "    <tr>\n",
       "      <th>75%</th>\n",
       "      <td>23.000000</td>\n",
       "    </tr>\n",
       "    <tr>\n",
       "      <th>max</th>\n",
       "      <td>855000.000000</td>\n",
       "    </tr>\n",
       "  </tbody>\n",
       "</table>\n",
       "</div>"
      ],
      "text/plain": [
       "               votes\n",
       "count  238443.000000\n",
       "mean      248.606761\n",
       "std      3432.461400\n",
       "min         0.000000\n",
       "25%         1.000000\n",
       "50%         4.000000\n",
       "75%        23.000000\n",
       "max    855000.000000"
      ]
     },
     "execution_count": 263,
     "metadata": {},
     "output_type": "execute_result"
    }
   ],
   "source": [
    "comments.describe()"
   ]
  },
  {
   "cell_type": "markdown",
   "id": "c6ab87af",
   "metadata": {},
   "source": [
    "## 3.1 检查重复情况\n",
    "超过一半重复"
   ]
  },
  {
   "cell_type": "code",
   "execution_count": 232,
   "id": "77fa185c",
   "metadata": {},
   "outputs": [
    {
     "data": {
      "text/plain": [
       "(238482, 4)"
      ]
     },
     "execution_count": 232,
     "metadata": {},
     "output_type": "execute_result"
    }
   ],
   "source": [
    "comments.shape"
   ]
  },
  {
   "cell_type": "code",
   "execution_count": 118,
   "id": "59c91723",
   "metadata": {},
   "outputs": [
    {
     "data": {
      "text/plain": [
       "(238482, 4)"
      ]
     },
     "execution_count": 118,
     "metadata": {},
     "output_type": "execute_result"
    }
   ],
   "source": [
    "comments = comments.drop_duplicates()\n",
    "comments.shape"
   ]
  },
  {
   "cell_type": "code",
   "execution_count": 120,
   "id": "47756efc",
   "metadata": {},
   "outputs": [],
   "source": [
    "comments.to_csv(COMMENT_PATH, index=None)"
   ]
  },
  {
   "cell_type": "markdown",
   "id": "c964db56",
   "metadata": {},
   "source": [
    "## 3.2  检查平均每个vid有几个评论\n",
    "1. vid一共4229个\n",
    "2. mean = 56条评论\n",
    "3. 大部分都是60条\n",
    "\n",
    "[x] 是否需要处理大部分60条，分布太均匀的问题？  "
   ]
  },
  {
   "cell_type": "code",
   "execution_count": 121,
   "id": "0460944b",
   "metadata": {
    "scrolled": true
   },
   "outputs": [
    {
     "data": {
      "text/plain": [
       "count    4240.000000\n",
       "mean       56.245755\n",
       "std        12.173414\n",
       "min         1.000000\n",
       "25%        60.000000\n",
       "50%        60.000000\n",
       "75%        60.000000\n",
       "max       109.000000\n",
       "Name: vid, dtype: float64"
      ]
     },
     "execution_count": 121,
     "metadata": {},
     "output_type": "execute_result"
    }
   ],
   "source": [
    "comments['vid'].value_counts().describe()"
   ]
  },
  {
   "cell_type": "code",
   "execution_count": 122,
   "id": "8dbe6afc",
   "metadata": {
    "scrolled": true
   },
   "outputs": [
    {
     "data": {
      "text/plain": [
       "<AxesSubplot:>"
      ]
     },
     "execution_count": 122,
     "metadata": {},
     "output_type": "execute_result"
    },
    {
     "data": {
      "image/png": "[encoded data removed]",
      "text/plain": [
       "<Figure size 432x288 with 1 Axes>"
      ]
     },
     "metadata": {
      "needs_background": "light"
     },
     "output_type": "display_data"
    }
   ],
   "source": [
    "comments['vid'].value_counts().hist()"
   ]
  },
  {
   "cell_type": "markdown",
   "id": "beed9a11",
   "metadata": {},
   "source": [
    "## 3.3 uid 数据\n",
    "一共236830个评论，大多数评论都只出现了一次"
   ]
  },
  {
   "cell_type": "code",
   "execution_count": 123,
   "id": "9560ab0b",
   "metadata": {
    "scrolled": true
   },
   "outputs": [
    {
     "data": {
      "text/plain": [
       "count    236839.000000\n",
       "mean          1.006929\n",
       "std           0.083103\n",
       "min           1.000000\n",
       "25%           1.000000\n",
       "50%           1.000000\n",
       "75%           1.000000\n",
       "max           3.000000\n",
       "Name: uid, dtype: float64"
      ]
     },
     "execution_count": 123,
     "metadata": {},
     "output_type": "execute_result"
    }
   ],
   "source": [
    "comments['uid'].value_counts().describe()"
   ]
  },
  {
   "cell_type": "code",
   "execution_count": 132,
   "id": "cead8a86",
   "metadata": {},
   "outputs": [
    {
     "data": {
      "text/plain": [
       "<AxesSubplot:>"
      ]
     },
     "execution_count": 132,
     "metadata": {},
     "output_type": "execute_result"
    },
    {
     "data": {
      "image/png": "[encoded data removed]",
      "text/plain": [
       "<Figure size 432x288 with 1 Axes>"
      ]
     },
     "metadata": {
      "needs_background": "light"
     },
     "output_type": "display_data"
    }
   ],
   "source": [
    "comments.uid.value_counts().hist()"
   ]
  },
  {
   "cell_type": "markdown",
   "id": "8c2566ac",
   "metadata": {},
   "source": [
    "## 3.4 comment votes"
   ]
  },
  {
   "cell_type": "code",
   "execution_count": 136,
   "id": "25638ad8",
   "metadata": {
    "scrolled": true
   },
   "outputs": [
    {
     "data": {
      "text/plain": [
       "0         170.0\n",
       "1           2.0\n",
       "2           4.0\n",
       "3           6.0\n",
       "4           1.0\n",
       "          ...  \n",
       "238477      0.0\n",
       "238478      0.0\n",
       "238479      0.0\n",
       "238480      8.0\n",
       "238481     15.0\n",
       "Name: votes, Length: 238482, dtype: float64"
      ]
     },
     "execution_count": 136,
     "metadata": {},
     "output_type": "execute_result"
    }
   ],
   "source": [
    "comments.votes"
   ]
  },
  {
   "cell_type": "code",
   "execution_count": 126,
   "id": "c2cfa89f",
   "metadata": {},
   "outputs": [],
   "source": [
    "# 处理votes\n",
    "def trans_votes(string):\n",
    "    if isinstance(string, str):\n",
    "        if 'k' == string[-1].lower():\n",
    "            return float(string[:-1])*1000\n",
    "        return float(string)\n",
    "comments['votes'] = comments['votes'].fillna('0')\n",
    "comments['votes'] = comments['votes'].apply(trans_votes)\n"
   ]
  },
  {
   "cell_type": "code",
   "execution_count": 140,
   "id": "91dd6f6b",
   "metadata": {
    "scrolled": true
   },
   "outputs": [
    {
     "data": {
      "text/plain": [
       "<AxesSubplot:>"
      ]
     },
     "execution_count": 140,
     "metadata": {},
     "output_type": "execute_result"
    },
    {
     "data": {
      "image/png": "[encoded data removed]",
      "text/plain": [
       "<Figure size 432x288 with 1 Axes>"
      ]
     },
     "metadata": {
      "needs_background": "light"
     },
     "output_type": "display_data"
    }
   ],
   "source": [
    "comments[comments.votes<50]['votes'].hist()"
   ]
  },
  {
   "cell_type": "markdown",
   "id": "a262e7b2",
   "metadata": {},
   "source": [
    "## 3.5 content\n",
    "* 去除除了英文和标点符号以外的所有文字\n",
    "* 如果剩余文字少于原文字的1/4，则删除整行\n",
    "* 删除所有小于五个字的content\n",
    "* 标记出现超过50次的高频评论freq = True/ False\n",
    "\n",
    "平均字长18"
   ]
  },
  {
   "cell_type": "code",
   "execution_count": 264,
   "id": "b02536a6",
   "metadata": {},
   "outputs": [],
   "source": [
    "comments = comments.dropna(subset=['content'])"
   ]
  },
  {
   "cell_type": "code",
   "execution_count": 265,
   "id": "80af718f",
   "metadata": {},
   "outputs": [
    {
     "data": {
      "text/plain": [
       "(238468, 4)"
      ]
     },
     "execution_count": 265,
     "metadata": {},
     "output_type": "execute_result"
    }
   ],
   "source": [
    "comments.shape"
   ]
  },
  {
   "cell_type": "code",
   "execution_count": 266,
   "id": "6811fdf6",
   "metadata": {
    "scrolled": true
   },
   "outputs": [],
   "source": [
    "import re\n",
    "texts = list(comments['content'])\n",
    "def filter_str(desstr, restr=''):\n",
    "    pattern = re.compile(\"[^a-z^A-Z^0-9^.^,^:^;^!^?^(^)^_^*^\\\"^' ]\")\n",
    "    res = pattern.sub(restr, desstr)\n",
    "    if len(desstr) > len(res)*3:\n",
    "        return ''\n",
    "    return res.strip()\n",
    "comments['en_content'] = comments['content'].apply(filter_str)"
   ]
  },
  {
   "cell_type": "code",
   "execution_count": 267,
   "id": "5043b471",
   "metadata": {},
   "outputs": [
    {
     "data": {
      "text/html": [
       "<div>\n",
       "<style scoped>\n",
       "    .dataframe tbody tr th:only-of-type {\n",
       "        vertical-align: middle;\n",
       "    }\n",
       "\n",
       "    .dataframe tbody tr th {\n",
       "        vertical-align: top;\n",
       "    }\n",
       "\n",
       "    .dataframe thead th {\n",
       "        text-align: right;\n",
       "    }\n",
       "</style>\n",
       "<table border=\"1\" class=\"dataframe\">\n",
       "  <thead>\n",
       "    <tr style=\"text-align: right;\">\n",
       "      <th></th>\n",
       "      <th>vid</th>\n",
       "      <th>uid</th>\n",
       "      <th>content</th>\n",
       "      <th>votes</th>\n",
       "      <th>en_content</th>\n",
       "    </tr>\n",
       "  </thead>\n",
       "  <tbody>\n",
       "    <tr>\n",
       "      <th>0</th>\n",
       "      <td>tZa4hs1MY3Y</td>\n",
       "      <td>UgxDRq2kfKKUdlLpBZl4AaABAg</td>\n",
       "      <td>I would be shocked if the committee hasn't alr...</td>\n",
       "      <td>170.0</td>\n",
       "      <td>I would be shocked if the committee hasn't alr...</td>\n",
       "    </tr>\n",
       "    <tr>\n",
       "      <th>1</th>\n",
       "      <td>tZa4hs1MY3Y</td>\n",
       "      <td>Ugxove78337i20X3u614AaABAg</td>\n",
       "      <td>My favorite part of the hearing was at the end:</td>\n",
       "      <td>2.0</td>\n",
       "      <td>My favorite part of the hearing was at the end:</td>\n",
       "    </tr>\n",
       "    <tr>\n",
       "      <th>2</th>\n",
       "      <td>tZa4hs1MY3Y</td>\n",
       "      <td>UgxOhb_QtgvMJ8Age_B4AaABAg</td>\n",
       "      <td>Her position within the west wing was specific...</td>\n",
       "      <td>4.0</td>\n",
       "      <td>Her position within the west wing was specific...</td>\n",
       "    </tr>\n",
       "    <tr>\n",
       "      <th>3</th>\n",
       "      <td>tZa4hs1MY3Y</td>\n",
       "      <td>UgwSx3EZ9UZXPwroBB54AaABAg</td>\n",
       "      <td>\"Too good to verify\" as they say in the ABC, N...</td>\n",
       "      <td>6.0</td>\n",
       "      <td>\"Too good to verify\" as they say in the ABC, N...</td>\n",
       "    </tr>\n",
       "    <tr>\n",
       "      <th>4</th>\n",
       "      <td>tZa4hs1MY3Y</td>\n",
       "      <td>Ugz1NKYar4WApnMFHyd4AaABAg</td>\n",
       "      <td>Her “hear say” testimony would never be allowe...</td>\n",
       "      <td>1.0</td>\n",
       "      <td>Her hear say testimony would never be allowed ...</td>\n",
       "    </tr>\n",
       "  </tbody>\n",
       "</table>\n",
       "</div>"
      ],
      "text/plain": [
       "           vid                         uid  \\\n",
       "0  tZa4hs1MY3Y  UgxDRq2kfKKUdlLpBZl4AaABAg   \n",
       "1  tZa4hs1MY3Y  Ugxove78337i20X3u614AaABAg   \n",
       "2  tZa4hs1MY3Y  UgxOhb_QtgvMJ8Age_B4AaABAg   \n",
       "3  tZa4hs1MY3Y  UgwSx3EZ9UZXPwroBB54AaABAg   \n",
       "4  tZa4hs1MY3Y  Ugz1NKYar4WApnMFHyd4AaABAg   \n",
       "\n",
       "                                             content  votes  \\\n",
       "0  I would be shocked if the committee hasn't alr...  170.0   \n",
       "1    My favorite part of the hearing was at the end:    2.0   \n",
       "2  Her position within the west wing was specific...    4.0   \n",
       "3  \"Too good to verify\" as they say in the ABC, N...    6.0   \n",
       "4  Her “hear say” testimony would never be allowe...    1.0   \n",
       "\n",
       "                                          en_content  \n",
       "0  I would be shocked if the committee hasn't alr...  \n",
       "1    My favorite part of the hearing was at the end:  \n",
       "2  Her position within the west wing was specific...  \n",
       "3  \"Too good to verify\" as they say in the ABC, N...  \n",
       "4  Her hear say testimony would never be allowed ...  "
      ]
     },
     "execution_count": 267,
     "metadata": {},
     "output_type": "execute_result"
    }
   ],
   "source": [
    "comments.head()"
   ]
  },
  {
   "cell_type": "code",
   "execution_count": 268,
   "id": "f164683d",
   "metadata": {},
   "outputs": [],
   "source": [
    "empty_indexs = [i for i, comment in comments.iterrows() if len(comment['en_content']) <= 5]"
   ]
  },
  {
   "cell_type": "code",
   "execution_count": 269,
   "id": "8b316b55",
   "metadata": {},
   "outputs": [
    {
     "data": {
      "text/html": [
       "<div>\n",
       "<style scoped>\n",
       "    .dataframe tbody tr th:only-of-type {\n",
       "        vertical-align: middle;\n",
       "    }\n",
       "\n",
       "    .dataframe tbody tr th {\n",
       "        vertical-align: top;\n",
       "    }\n",
       "\n",
       "    .dataframe thead th {\n",
       "        text-align: right;\n",
       "    }\n",
       "</style>\n",
       "<table border=\"1\" class=\"dataframe\">\n",
       "  <thead>\n",
       "    <tr style=\"text-align: right;\">\n",
       "      <th></th>\n",
       "      <th>vid</th>\n",
       "      <th>uid</th>\n",
       "      <th>content</th>\n",
       "      <th>votes</th>\n",
       "      <th>en_content</th>\n",
       "    </tr>\n",
       "  </thead>\n",
       "  <tbody>\n",
       "    <tr>\n",
       "      <th>72</th>\n",
       "      <td>uBZhjmYRWfg</td>\n",
       "      <td>Ugxw9lyfN-J8H3aZL2p4AaABAg</td>\n",
       "      <td>😃</td>\n",
       "      <td>6.0</td>\n",
       "      <td></td>\n",
       "    </tr>\n",
       "    <tr>\n",
       "      <th>83</th>\n",
       "      <td>uBZhjmYRWfg</td>\n",
       "      <td>UgyftiODgrY9RNlheuF4AaABAg</td>\n",
       "      <td>At</td>\n",
       "      <td>8.0</td>\n",
       "      <td>At</td>\n",
       "    </tr>\n",
       "    <tr>\n",
       "      <th>193</th>\n",
       "      <td>jLkqmXmkVkE</td>\n",
       "      <td>UgwLZNXWtiHCR2-g3Sh4AaABAg</td>\n",
       "      <td>Lol</td>\n",
       "      <td>9.0</td>\n",
       "      <td>Lol</td>\n",
       "    </tr>\n",
       "    <tr>\n",
       "      <th>216</th>\n",
       "      <td>jLkqmXmkVkE</td>\n",
       "      <td>UgxglW4PYKyHHUN3m6J4AaABAg</td>\n",
       "      <td>@</td>\n",
       "      <td>1.0</td>\n",
       "      <td></td>\n",
       "    </tr>\n",
       "    <tr>\n",
       "      <th>228</th>\n",
       "      <td>jLkqmXmkVkE</td>\n",
       "      <td>UgzKyut0uYPBdtKSqBt4AaABAg</td>\n",
       "      <td>0:30</td>\n",
       "      <td>1.0</td>\n",
       "      <td>0:30</td>\n",
       "    </tr>\n",
       "    <tr>\n",
       "      <th>...</th>\n",
       "      <td>...</td>\n",
       "      <td>...</td>\n",
       "      <td>...</td>\n",
       "      <td>...</td>\n",
       "      <td>...</td>\n",
       "    </tr>\n",
       "    <tr>\n",
       "      <th>238407</th>\n",
       "      <td>duNgBE722vs</td>\n",
       "      <td>UgxzdBZK20CgXypINMV4AaABAg</td>\n",
       "      <td>🔥</td>\n",
       "      <td>2.0</td>\n",
       "      <td></td>\n",
       "    </tr>\n",
       "    <tr>\n",
       "      <th>238408</th>\n",
       "      <td>duNgBE722vs</td>\n",
       "      <td>Ugw7GeKem8HsHPEdlVZ4AaABAg</td>\n",
       "      <td>🔥</td>\n",
       "      <td>2.0</td>\n",
       "      <td></td>\n",
       "    </tr>\n",
       "    <tr>\n",
       "      <th>238411</th>\n",
       "      <td>duNgBE722vs</td>\n",
       "      <td>Ugyd4HkOCe-nq25RtO14AaABAg</td>\n",
       "      <td>💥</td>\n",
       "      <td>1.0</td>\n",
       "      <td></td>\n",
       "    </tr>\n",
       "    <tr>\n",
       "      <th>238448</th>\n",
       "      <td>goMpYAe8e60</td>\n",
       "      <td>Ugz5Ri5duJOiALAO49Z4AaABAg</td>\n",
       "      <td>03:00</td>\n",
       "      <td>129.0</td>\n",
       "      <td>03:00</td>\n",
       "    </tr>\n",
       "    <tr>\n",
       "      <th>238459</th>\n",
       "      <td>goMpYAe8e60</td>\n",
       "      <td>Ugw_q4poDblCGVBmzZV4AaABAg</td>\n",
       "      <td>❤</td>\n",
       "      <td>1.0</td>\n",
       "      <td></td>\n",
       "    </tr>\n",
       "  </tbody>\n",
       "</table>\n",
       "<p>26456 rows × 5 columns</p>\n",
       "</div>"
      ],
      "text/plain": [
       "                vid                         uid content  votes en_content\n",
       "72      uBZhjmYRWfg  Ugxw9lyfN-J8H3aZL2p4AaABAg       😃    6.0           \n",
       "83      uBZhjmYRWfg  UgyftiODgrY9RNlheuF4AaABAg      At    8.0         At\n",
       "193     jLkqmXmkVkE  UgwLZNXWtiHCR2-g3Sh4AaABAg     Lol    9.0        Lol\n",
       "216     jLkqmXmkVkE  UgxglW4PYKyHHUN3m6J4AaABAg       @    1.0           \n",
       "228     jLkqmXmkVkE  UgzKyut0uYPBdtKSqBt4AaABAg    0:30    1.0       0:30\n",
       "...             ...                         ...     ...    ...        ...\n",
       "238407  duNgBE722vs  UgxzdBZK20CgXypINMV4AaABAg       🔥    2.0           \n",
       "238408  duNgBE722vs  Ugw7GeKem8HsHPEdlVZ4AaABAg       🔥    2.0           \n",
       "238411  duNgBE722vs  Ugyd4HkOCe-nq25RtO14AaABAg       💥    1.0           \n",
       "238448  goMpYAe8e60  Ugz5Ri5duJOiALAO49Z4AaABAg   03:00  129.0      03:00\n",
       "238459  goMpYAe8e60  Ugw_q4poDblCGVBmzZV4AaABAg       ❤    1.0           \n",
       "\n",
       "[26456 rows x 5 columns]"
      ]
     },
     "execution_count": 269,
     "metadata": {},
     "output_type": "execute_result"
    }
   ],
   "source": [
    "comments.loc[empty_indexs]"
   ]
  },
  {
   "cell_type": "code",
   "execution_count": 270,
   "id": "6c84b382",
   "metadata": {},
   "outputs": [],
   "source": [
    "comments.drop(index=empty_indexs, inplace=True)"
   ]
  },
  {
   "cell_type": "code",
   "execution_count": 271,
   "id": "030ed491",
   "metadata": {},
   "outputs": [
    {
     "data": {
      "text/plain": [
       "(212012, 5)"
      ]
     },
     "execution_count": 271,
     "metadata": {},
     "output_type": "execute_result"
    }
   ],
   "source": [
    "comments.shape"
   ]
  },
  {
   "cell_type": "code",
   "execution_count": 275,
   "id": "aaf60e0d",
   "metadata": {},
   "outputs": [],
   "source": [
    "content_count = comments['en_content'].value_counts()\n",
    "freq_content = list(content_count[content_count>50].index)\n",
    "comments['freq'] = comments['en_content'].isin(freq_content)"
   ]
  },
  {
   "cell_type": "code",
   "execution_count": 295,
   "id": "497a2c9b",
   "metadata": {},
   "outputs": [],
   "source": [
    "comments.to_csv('comments.csv', index = None)"
   ]
  },
  {
   "cell_type": "code",
   "execution_count": 298,
   "id": "f5cf66b7",
   "metadata": {},
   "outputs": [
    {
     "data": {
      "text/plain": [
       "18.385143293775823"
      ]
     },
     "execution_count": 298,
     "metadata": {},
     "output_type": "execute_result"
    }
   ],
   "source": [
    "# 平均字长\n",
    "word_length = comments['en_content'].apply(lambda x: len(x.split()))\n",
    "word_length.mean()"
   ]
  },
  {
   "cell_type": "code",
   "execution_count": 302,
   "id": "cae45d51",
   "metadata": {
    "scrolled": true
   },
   "outputs": [
    {
     "data": {
      "text/plain": [
       "18.508330283253397"
      ]
     },
     "execution_count": 302,
     "metadata": {},
     "output_type": "execute_result"
    }
   ],
   "source": [
    "unfreq_length = comments[comments['freq']== False]['en_content'].apply(lambda x: len(x.split()))\n",
    "unfreq_length.mean()"
   ]
  },
  {
   "cell_type": "markdown",
   "id": "d81716eb",
   "metadata": {},
   "source": [
    "# 4 Transcript"
   ]
  },
  {
   "cell_type": "code",
   "execution_count": 2,
   "id": "c2d8803e",
   "metadata": {},
   "outputs": [
    {
     "name": "stdout",
     "output_type": "stream",
     "text": [
      "na-EhbQx_Rg\n",
      "['vid,start,end,text\\n', 'na-EhbQx_Rg,340,6640,[Music]\\n', 'na-EhbQx_Rg,6640,8350,so\\n', 'na-EhbQx_Rg,8350,22640,[Music]\\n', 'na-EhbQx_Rg,22640,25640,do\\n', 'na-EhbQx_Rg,26860,32559,[Music]\\n']\n",
      "==================================================\n",
      "d7kiYLN1Z3w\n",
      "['vid,start,end,text\\n', 'd7kiYLN1Z3w,8320,10590,hmm\\n', 'd7kiYLN1Z3w,10590,22240,[Music]\\n', 'd7kiYLN1Z3w,22240,25240,like\\n', 'd7kiYLN1Z3w,33920,36920,hmm\\n', 'd7kiYLN1Z3w,37380,47920,[Music]\\n', 'd7kiYLN1Z3w,47920,50920,so\\n', 'd7kiYLN1Z3w,53140,58770,[Music]\\n', 'd7kiYLN1Z3w,58800,60878,you\\n']\n",
      "==================================================\n",
      "cxmzZ9ah64E\n",
      "['vid,start,end,text\\n', 'cxmzZ9ah64E,22240,25240,foreign\\n', 'cxmzZ9ah64E,29590,32738,[Music]\\n', 'cxmzZ9ah64E,70320,73320,foreign\\n', 'cxmzZ9ah64E,80320,83320,foreign\\n', 'cxmzZ9ah64E,224239,227239,um\\n', 'cxmzZ9ah64E,265840,268840,um\\n', 'cxmzZ9ah64E,391919,394290,foreign\\n', 'cxmzZ9ah64E,394290,410810,[Music]\\n', 'cxmzZ9ah64E,412639,414720,you\\n']\n",
      "==================================================\n",
      "SqlzqL9nC_4\n",
      "['vid,start,end,text\\n', 'SqlzqL9nC_4,80,3080,uh\\n', 'SqlzqL9nC_4,19119,22119,um\\n', 'SqlzqL9nC_4,33160,34290,[Music]\\n', 'SqlzqL9nC_4,34290,41660,[Applause]\\n', 'SqlzqL9nC_4,41660,43680,[Music]\\n', 'SqlzqL9nC_4,43680,45840,wow\\n', 'SqlzqL9nC_4,52070,55218,[Music]\\n', 'SqlzqL9nC_4,57920,60079,wow\\n']\n",
      "==================================================\n",
      "POUf2rO6xAQ\n",
      "['vid,start,end,text\\n', 'POUf2rO6xAQ,0,2000,how to make your own\\n', 'POUf2rO6xAQ,2000,5480,apple pencil\\n', 'POUf2rO6xAQ,5720,9920,[Music]\\n', 'POUf2rO6xAQ,12590,18960,[Music]\\n', 'POUf2rO6xAQ,18960,21880,so\\n', 'POUf2rO6xAQ,21880,32180,[Music]\\n', 'POUf2rO6xAQ,33120,35199,you\\n']\n",
      "==================================================\n",
      "6mN9hVxL3A0\n",
      "['vid,start,end,text\\n', '6mN9hVxL3A0,33920,43839,so\\n', '6mN9hVxL3A0,164560,169840,so\\n', '6mN9hVxL3A0,320320,323840,oh\\n', '6mN9hVxL3A0,377840,379840,do\\n', '6mN9hVxL3A0,448640,448720,you\\n']\n",
      "==================================================\n",
      "gYUcSDjHD_A\n",
      "['vid,start,end,text\\n', 'gYUcSDjHD_A,127040,129039,almost a confirmed arnold 800 series in\\n', 'gYUcSDjHD_A,129039,130959,the flagship tunnel eight gen one are\\n', 'gYUcSDjHD_A,130959,132400,they really seven hundred series in the\\n', 'gYUcSDjHD_A,132400,135120,flagship situation\\n', 'gYUcSDjHD_A,135120,136239,performance\\n', 'gYUcSDjHD_A,136239,139520,qualcomm snapdragon 875\\n', 'gYUcSDjHD_A,139920,143840,leaked videos in photoshop\\n', 'gYUcSDjHD_A,280320,283320,foreign\\n', 'gYUcSDjHD_A,361840,364400,goodbye\\n']\n",
      "==================================================\n",
      "uQ0ak_86o6M\n",
      "['vid,start,end,text\\n', 'uQ0ak_86o6M,0,1520,[Music]\\n', 'uQ0ak_86o6M,1520,3060,[Applause]\\n', 'uQ0ak_86o6M,3060,9980,[Music]\\n', 'uQ0ak_86o6M,43200,43200,channel foreign\\n', 'uQ0ak_86o6M,44640,47878,like comment\\n']\n",
      "==================================================\n",
      "dOjLTDO6U5Y\n",
      "['vid,start,end,text\\n', 'dOjLTDO6U5Y,7280,10380,[Music]\\n', 'dOjLTDO6U5Y,17290,19920,[Music]\\n', 'dOjLTDO6U5Y,19920,22920,so\\n', 'dOjLTDO6U5Y,32200,35359,[Music]\\n', 'dOjLTDO6U5Y,38480,41480,so\\n', 'dOjLTDO6U5Y,42750,46000,[Music]\\n', 'dOjLTDO6U5Y,58160,61160,oh\\n']\n",
      "==================================================\n",
      "9WPrPGA19Uw\n",
      "['vid,start,end,text\\n', '9WPrPGA19Uw,51190,54239,[Music]\\n', '9WPrPGA19Uw,58250,61409,[Music]\\n', '9WPrPGA19Uw,140480,143480,foreign\\n', '9WPrPGA19Uw,223440,226440,foreign\\n', '9WPrPGA19Uw,237040,240040,um\\n', '9WPrPGA19Uw,336639,339639,is\\n', '9WPrPGA19Uw,630079,633079,um\\n', '9WPrPGA19Uw,670640,673640,um\\n']\n",
      "==================================================\n",
      "mw8TmzYwzZA\n",
      "['vid,start,end,text\\n', 'mw8TmzYwzZA,0,18809,[Music]\\n', 'mw8TmzYwzZA,21780,90240,[Music]\\n', 'mw8TmzYwzZA,90240,93240,so\\n', 'mw8TmzYwzZA,99190,120399,[Music]\\n', 'mw8TmzYwzZA,120399,122220,do\\n', 'mw8TmzYwzZA,122220,157419,[Music]\\n', 'mw8TmzYwzZA,159280,161360,you\\n']\n",
      "==================================================\n",
      "5LZeSdrRZzQ\n",
      "['vid,start,end,text\\n', '5LZeSdrRZzQ,1040,4319,i wanna know i wanna know could be red\\n', '5LZeSdrRZzQ,4319,6960,or i could be yellow i could be blue or\\n', '5LZeSdrRZzQ,6960,9040,i could be purple i could be greener\\n', '5LZeSdrRZzQ,9040,11679,pink or black or white it could be every\\n', '5LZeSdrRZzQ,11679,14559,color you like\\n']\n",
      "==================================================\n",
      "N-p3emMfR3c\n",
      "['vid,start,end,text\\n', 'N-p3emMfR3c,14240,17240,foreign\\n', 'N-p3emMfR3c,30690,37060,[Music]\\n', 'N-p3emMfR3c,39920,42399,[Music]\\n', 'N-p3emMfR3c,42399,45399,foreign\\n', 'N-p3emMfR3c,67690,70750,[Music]\\n', 'N-p3emMfR3c,81980,85139,[Music]\\n']\n",
      "==================================================\n",
      "JvyS7aUZbMc\n",
      "['vid,start,end,text\\n', 'JvyS7aUZbMc,9170,12390,[Music]\\n', 'JvyS7aUZbMc,42000,45000,foreign\\n', 'JvyS7aUZbMc,92360,95430,[Music]\\n', 'JvyS7aUZbMc,120479,123479,foreign\\n', 'JvyS7aUZbMc,130080,132630,foreign\\n', 'JvyS7aUZbMc,132630,135040,[Laughter]\\n', 'JvyS7aUZbMc,135040,138079,[Applause]\\n', 'JvyS7aUZbMc,141520,144639,[Applause]\\n', 'JvyS7aUZbMc,183519,186519,but\\n']\n",
      "==================================================\n",
      "PFFK8KFpA5w\n",
      "['vid,start,end,text\\n', 'PFFK8KFpA5w,40,8880,[Music]\\n', 'PFFK8KFpA5w,8880,11140,oh\\n', 'PFFK8KFpA5w,11140,27090,[Music]\\n', 'PFFK8KFpA5w,28080,29690,when i\\n', 'PFFK8KFpA5w,29690,33280,[Music]\\n', 'PFFK8KFpA5w,33280,36280,me\\n', 'PFFK8KFpA5w,37190,57429,[Music]\\n']\n",
      "==================================================\n",
      "Q48fmgNIynQ\n",
      "['vid,start,end,text\\n', 'Q48fmgNIynQ,56879,59840,foreign\\n', 'Q48fmgNIynQ,349680,352680,foreign\\n', 'Q48fmgNIynQ,364400,367400,foreign\\n', 'Q48fmgNIynQ,448240,451240,foreign\\n', 'Q48fmgNIynQ,671360,674360,recorded\\n', 'Q48fmgNIynQ,770639,773639,foreign\\n', 'Q48fmgNIynQ,844880,847040,foreign\\n']\n",
      "==================================================\n",
      "M8rnCHUHniw\n",
      "['vid,start,end,text\\n', 'M8rnCHUHniw,6520,9590,[Music]\\n', 'M8rnCHUHniw,14799,17799,foreign\\n', 'M8rnCHUHniw,22820,25039,[Applause]\\n', 'M8rnCHUHniw,25039,26850,foreign\\n', 'M8rnCHUHniw,26850,27780,[Music]\\n', 'M8rnCHUHniw,27780,28930,[Applause]\\n', 'M8rnCHUHniw,28930,35210,[Music]\\n', 'M8rnCHUHniw,54559,57559,foreign\\n']\n",
      "==================================================\n",
      "McBuV6fud1g\n",
      "['vid,start,end,text\\n', 'McBuV6fud1g,9519,11280,very simple chicken mashed potatoes and\\n', 'McBuV6fud1g,11280,13040,boiled vegetables a dish somewhere\\n', 'McBuV6fud1g,13040,14799,around 2009\\n', 'McBuV6fud1g,14799,17200,250\\n', 'McBuV6fud1g,19660,22699,[Music]\\n']\n",
      "==================================================\n",
      "zPxz33Zwpes\n",
      "['vid,start,end,text\\n', 'zPxz33Zwpes,80,1520,hello\\n', 'zPxz33Zwpes,1520,16400,[Music]\\n', 'zPxz33Zwpes,16400,17750,is\\n', 'zPxz33Zwpes,17750,33720,[Music]\\n', 'zPxz33Zwpes,35920,38079,bye\\n']\n",
      "==================================================\n",
      "nYY5tz-PTzY\n",
      "['vid,start,end,text\\n', 'nYY5tz-PTzY,3890,5656,It’s like a dream\\n', 'nYY5tz-PTzY,6532,8534,Or is it a dream?\\n', 'nYY5tz-PTzY,9456,11689,Fallen into a deep slumber\\n', 'nYY5tz-PTzY,12735,19128,The end nowhere in sight\\n', 'nYY5tz-PTzY,237971,242517,Inside my head\\n', 'nYY5tz-PTzY,242934,249900,Do not stop and do not stop and do not stop…\\n']\n",
      "==================================================\n",
      "7IP5zAefiiQ\n",
      "['vid,start,end,text\\n', '7IP5zAefiiQ,310,56840,[Music]\\n', '7IP5zAefiiQ,56840,59840,what\\n', '7IP5zAefiiQ,59970,119330,[Music]\\n', '7IP5zAefiiQ,119330,121760,[Applause]\\n', '7IP5zAefiiQ,121760,126629,[Music]\\n', '7IP5zAefiiQ,126840,129840,so\\n', '7IP5zAefiiQ,132460,264080,[Music]\\n', '7IP5zAefiiQ,264080,266159,you\\n']\n",
      "==================================================\n",
      "JzDF4dbkReM\n",
      "['vid,start,end,text\\n', 'JzDF4dbkReM,1090,4990,[Music]\\n', 'JzDF4dbkReM,14080,17639,i wanna die\\n', 'JzDF4dbkReM,21920,25160,my beautiful\\n', 'JzDF4dbkReM,35160,41350,[Music]\\n', 'JzDF4dbkReM,42320,45120,i need to\\n', 'JzDF4dbkReM,47430,52859,[Music]\\n', 'JzDF4dbkReM,53360,56520,give me\\n']\n",
      "==================================================\n",
      "cboWaUdLzGw\n",
      "['vid,start,end,text\\n', 'cboWaUdLzGw,4990,8139,[Music]\\n', 'cboWaUdLzGw,8720,11680,foreign\\n', 'cboWaUdLzGw,11680,14820,[Music]\\n', 'cboWaUdLzGw,36559,39559,foreign\\n', 'cboWaUdLzGw,74470,77599,[Applause]\\n', 'cboWaUdLzGw,78280,81719,[Music]\\n', 'cboWaUdLzGw,130959,133959,boy\\n', 'cboWaUdLzGw,135980,144780,[Music]\\n', 'cboWaUdLzGw,146000,148080,you\\n']\n",
      "==================================================\n",
      "2VBcROEDy0s\n",
      "['vid,start,end,text\\n', '2VBcROEDy0s,610,14719,[Music]\\n', '2VBcROEDy0s,14719,16420,here we\\n', '2VBcROEDy0s,16420,20560,[Music]\\n', \"2VBcROEDy0s,20560,23119,don't be afraid to show what we're going\\n\", '2VBcROEDy0s,23119,27560,for this is what we know\\n', '2VBcROEDy0s,28610,31680,[Music]\\n']\n",
      "==================================================\n",
      "91V5BBkduyQ\n",
      "['vid,start,end,text\\n', '91V5BBkduyQ,13780,16960,[Music]\\n', '91V5BBkduyQ,234959,237959,foreign\\n', '91V5BBkduyQ,252480,255480,foreign\\n', '91V5BBkduyQ,266240,269240,foreign\\n', '91V5BBkduyQ,288800,291899,[Music]\\n', '91V5BBkduyQ,364639,367639,foreign\\n', '91V5BBkduyQ,388080,391080,um\\n', '91V5BBkduyQ,512240,514800,out\\n']\n",
      "==================================================\n",
      "ub1WfnpqXFc\n",
      "['vid,start,end,text\\n', 'ub1WfnpqXFc,7007,9217,\"Hello, this is Delight\"\\n', 'ub1WfnpqXFc,9217,11969,\"Today, I visited a rice tteokbokki restaurant in Cheongju.\"\\n', 'ub1WfnpqXFc,11969,14430,\"The characteristic of this house is the use of rice cake,\"\\n', 'ub1WfnpqXFc,14430,18225,Is that all the fries are made by hand.\\n', 'ub1WfnpqXFc,18225,21728,Then let’s look at the process of making tteokbokki and tempura\\n', 'ub1WfnpqXFc,21728,27733,Water (domestic)\\n', 'ub1WfnpqXFc,1307984,1314448,\"Assorted tempura, Tteokbokki complete!\"\\n', 'ub1WfnpqXFc,1315657,1325207,\"I hope you had a good time today, and we\\'ll see you again with delicious videos\"\\n', 'ub1WfnpqXFc,1326000,1402192,: )\\n']\n",
      "==================================================\n",
      "kkxdhkurKak\n",
      "['vid,start,end,text\\n', 'kkxdhkurKak,60770,67530,[Laughter]\\n', 'kkxdhkurKak,251450,255370,[Laughter]\\n', 'kkxdhkurKak,391750,399299,[Music]\\n', 'kkxdhkurKak,417710,422830,[Laughter]\\n', 'kkxdhkurKak,449630,452779,[Music]\\n', 'kkxdhkurKak,461470,464599,[Music]\\n', 'kkxdhkurKak,472960,475960,foreign\\n', 'kkxdhkurKak,479500,480639,[Music]\\n', 'kkxdhkurKak,480639,482720,you\\n']\n",
      "==================================================\n"
     ]
    },
    {
     "name": "stdout",
     "output_type": "stream",
     "text": [
      "D9t1_NbO12I\n",
      "['vid,start,end,text\\n', 'D9t1_NbO12I,5250,8240,[Music]\\n', 'D9t1_NbO12I,8240,11559,thank you\\n', 'D9t1_NbO12I,16530,23680,[Music]\\n', 'D9t1_NbO12I,52100,56079,[Music]\\n', 'D9t1_NbO12I,56079,59840,another amazing experience\\n']\n",
      "==================================================\n",
      "wE50k4AQho8\n",
      "['vid,start,end,text\\n', 'wE50k4AQho8,1040,4319,i wanna know i wanna know could be red\\n', 'wE50k4AQho8,4319,6960,or i could be yellow i could be blue or\\n', 'wE50k4AQho8,6960,9040,i could be purple i could be greener\\n', 'wE50k4AQho8,9040,11679,pink or black or white it could be every\\n', 'wE50k4AQho8,11679,14639,color you like\\n']\n",
      "==================================================\n",
      "BFChZomh-Jo\n",
      "['vid,start,end,text\\n', 'BFChZomh-Jo,0,8720,[Music]\\n', 'BFChZomh-Jo,8720,11410,okay\\n', 'BFChZomh-Jo,11410,14509,[Music]\\n', 'BFChZomh-Jo,17440,20440,okay\\n', 'BFChZomh-Jo,25310,61120,[Music]\\n']\n",
      "==================================================\n",
      "lFiD3AUzYUk\n",
      "['vid,start,end,text\\n', \"lFiD3AUzYUk,0,3000,Welcome to Wolfoo's Stories\\n\", 'lFiD3AUzYUk,3000,5000,Enjoy watching this new episode <3\\n', 'lFiD3AUzYUk,260500,307000,\"Please like, share and subscribe for more stories of Wolfoo.\"\\n']\n",
      "==================================================\n",
      "Xw4MB4xiXhY\n",
      "['vid,start,end,text\\n', 'Xw4MB4xiXhY,1700,5650,[Music]\\n', 'Xw4MB4xiXhY,5650,8759,[Applause]\\n', 'Xw4MB4xiXhY,11000,14050,[Music]\\n', 'Xw4MB4xiXhY,16460,19529,[Music]\\n', 'Xw4MB4xiXhY,28640,31199,um\\n', 'Xw4MB4xiXhY,31199,33760,one hour later\\n', 'Xw4MB4xiXhY,33760,45298,[Music]\\n']\n",
      "==================================================\n",
      "2yJFnhWjSy4\n",
      "['vid,start,end,text\\n', '2yJFnhWjSy4,14400,17400,foreign\\n', '2yJFnhWjSy4,21700,24860,[Music]\\n', '2yJFnhWjSy4,153760,156760,foreign\\n', '2yJFnhWjSy4,252879,255840,customization\\n', '2yJFnhWjSy4,312639,315639,foreign\\n', '2yJFnhWjSy4,316550,323750,[Music]\\n', '2yJFnhWjSy4,324000,327000,uh\\n', '2yJFnhWjSy4,327600,335350,[Music]\\n']\n",
      "==================================================\n",
      "bs3_lazLhOc\n",
      "['vid,start,end,text\\n', 'bs3_lazLhOc,8000,8960,you\\n', 'bs3_lazLhOc,8960,13719,can hear me\\n', 'bs3_lazLhOc,14250,18280,[Music]\\n', 'bs3_lazLhOc,19119,20160,you\\n', 'bs3_lazLhOc,20160,23600,can go\\n']\n",
      "==================================================\n",
      "qVLWLUQgn7I\n",
      "['vid,start,end,text\\n', 'qVLWLUQgn7I,160,1330,um\\n', 'qVLWLUQgn7I,1330,6790,[Music]\\n', 'qVLWLUQgn7I,13030,21270,[Music]\\n', 'qVLWLUQgn7I,25420,33680,[Music]\\n', \"qVLWLUQgn7I,33680,36239,i don't never\\n\"]\n",
      "==================================================\n",
      "5wM0RP1AHlU\n",
      "['vid,start,end,text\\n', '5wM0RP1AHlU,7030,15969,[Music]\\n', '5wM0RP1AHlU,18510,22349,[Music]\\n', '5wM0RP1AHlU,24960,28439,and battle scars\\n', '5wM0RP1AHlU,31660,40189,[Music]\\n', '5wM0RP1AHlU,41680,45719,make me feel again\\n', \"5wM0RP1AHlU,46640,48200,don't make me\\n\", '5wM0RP1AHlU,48200,56409,[Music]\\n', '5wM0RP1AHlU,56840,60920,breathe changed\\n']\n",
      "==================================================\n",
      "SI9isXfowd4\n",
      "['vid,start,end,text\\n', 'SI9isXfowd4,11440,12080,welcome\\n', 'SI9isXfowd4,12080,17050,to 383\\n', 'SI9isXfowd4,17050,22210,[Music]\\n', 'SI9isXfowd4,95150,98269,[Music]\\n', 'SI9isXfowd4,223700,224840,[Music]\\n', 'SI9isXfowd4,224840,227770,m\\n', 'SI9isXfowd4,227770,232720,[Music]\\n', 'SI9isXfowd4,232720,234799,you\\n']\n",
      "==================================================\n",
      "zKgrrRU_UgI\n",
      "['vid,start,end,text\\n', 'zKgrrRU_UgI,1650,4730,[Music]\\n', 'zKgrrRU_UgI,153360,156360,um\\n', 'zKgrrRU_UgI,205430,208528,[Music]\\n', 'zKgrrRU_UgI,261338,264379,[Music]\\n', 'zKgrrRU_UgI,272410,275449,[Music]\\n', 'zKgrrRU_UgI,326600,329739,[Music]\\n', 'zKgrrRU_UgI,420880,423840,foreign\\n', 'zKgrrRU_UgI,594480,597480,be\\n']\n",
      "==================================================\n",
      "2rkoe4XfoPI\n",
      "['vid,start,end,text\\n', '2rkoe4XfoPI,1130,4400,[Music]\\n', '2rkoe4XfoPI,13920,16920,foreign\\n', '2rkoe4XfoPI,22870,26079,[Music]\\n', '2rkoe4XfoPI,56399,59399,foreign\\n', '2rkoe4XfoPI,98880,101840,family\\n', '2rkoe4XfoPI,120950,124048,[Music]\\n', '2rkoe4XfoPI,182480,185440,foreign\\n', '2rkoe4XfoPI,185440,188440,foreign\\n']\n",
      "==================================================\n",
      "mLFzDJ4rQyc\n",
      "['vid,start,end,text\\n', 'mLFzDJ4rQyc,2290,4319,[Music]\\n', \"mLFzDJ4rQyc,4319,6890,it's hard to breathe\\n\", 'mLFzDJ4rQyc,6890,9980,[Music]\\n', 'mLFzDJ4rQyc,24810,27760,[Music]\\n', 'mLFzDJ4rQyc,27760,30760,shhh\\n', 'mLFzDJ4rQyc,34160,36239,you\\n']\n",
      "==================================================\n",
      "gaXQo5D_dgs\n",
      "['vid,start,end,text\\n', 'gaXQo5D_dgs,2300,6450,[Music]\\n', 'gaXQo5D_dgs,11600,19979,[Music]\\n', 'gaXQo5D_dgs,23920,32270,[Music]\\n', 'gaXQo5D_dgs,39360,45830,[Music]\\n', 'gaXQo5D_dgs,49810,52979,[Music]\\n', 'gaXQo5D_dgs,53910,58719,[Applause]\\n', 'gaXQo5D_dgs,58719,60800,you\\n']\n",
      "==================================================\n",
      "tzluMWgVgko\n",
      "['vid,start,end,text\\n', 'tzluMWgVgko,1210,9030,[Music]\\n', 'tzluMWgVgko,11510,20258,[Music]\\n', 'tzluMWgVgko,21680,22800,so\\n', 'tzluMWgVgko,22800,33050,[Music]\\n', 'tzluMWgVgko,33050,34410,[Applause]\\n', 'tzluMWgVgko,34410,52460,[Music]\\n', 'tzluMWgVgko,52719,54800,you\\n']\n",
      "==================================================\n",
      "_NiKR3vzf0o\n",
      "['vid,start,end,text\\n', '_NiKR3vzf0o,719,3520,i tried so hard\\n', '_NiKR3vzf0o,3520,6640,and got so far\\n', '_NiKR3vzf0o,6640,8960,but in the end\\n', \"_NiKR3vzf0o,8960,11679,it doesn't even matter\\n\", '_NiKR3vzf0o,11679,16360,i had to fall\\n', \"_NiKR3vzf0o,19840,24119,it doesn't even matter\\n\", '_NiKR3vzf0o,24310,28400,[Music]\\n', '_NiKR3vzf0o,28400,30640,but in the end\\n', \"_NiKR3vzf0o,30640,34879,it doesn't even matter\\n\"]\n",
      "==================================================\n",
      "WOmfEtd62aY\n",
      "['vid,start,end,text\\n', 'WOmfEtd62aY,1110,4229,[Music]\\n', 'WOmfEtd62aY,29119,30000,body of knowledge\\n', 'WOmfEtd62aY,30000,33600,acquired while being educated taken\\n', 'WOmfEtd62aY,33600,37600,for an enlightening experience\\n', 'WOmfEtd62aY,37600,41680,example sentence all three academies\\n', 'WOmfEtd62aY,41680,45120,are also spotted\\n', 'WOmfEtd62aY,57680,59840,foreign\\n']\n",
      "==================================================\n",
      "xGWMCOplqUk\n",
      "['vid,start,end,text\\n', 'xGWMCOplqUk,15920,18000,a\\n', 'xGWMCOplqUk,33130,36259,[Music]\\n', 'xGWMCOplqUk,42719,45719,foreign\\n', 'xGWMCOplqUk,83040,86040,foreign\\n', 'xGWMCOplqUk,104720,107720,russia\\n', 'xGWMCOplqUk,107870,110419,[Music]\\n']\n",
      "==================================================\n",
      "iAOeM_d6E3g\n",
      "['vid,start,end,text\\n', 'iAOeM_d6E3g,4750,14670,[Music]\\n', 'iAOeM_d6E3g,16810,37169,[Music]\\n', 'iAOeM_d6E3g,41360,44360,fashion\\n', 'iAOeM_d6E3g,45290,61229,[Music]\\n', 'iAOeM_d6E3g,63430,66489,[Music]\\n', 'iAOeM_d6E3g,68320,71320,is\\n', 'iAOeM_d6E3g,71930,97520,[Music]\\n', 'iAOeM_d6E3g,97520,100520,foreign\\n', 'iAOeM_d6E3g,102510,129659,[Music]\\n']\n",
      "==================================================\n",
      "NHcMob95EC8\n",
      "['vid,start,end,text\\n', 'NHcMob95EC8,610,960,[Music]\\n', 'NHcMob95EC8,960,3540,babies\\n', 'NHcMob95EC8,3540,30749,[Music]\\n', 'NHcMob95EC8,36180,43090,[Music]\\n', 'NHcMob95EC8,47180,58719,[Music]\\n', \"NHcMob95EC8,58719,60800,it's\\n\"]\n",
      "==================================================\n",
      "QtYIAimp3TU\n",
      "['vid,start,end,text\\n', 'QtYIAimp3TU,2390,26420,[Music]\\n', 'QtYIAimp3TU,28490,49920,[Music]\\n', 'QtYIAimp3TU,53500,58560,[Music]\\n', 'QtYIAimp3TU,62720,84580,[Music]\\n', 'QtYIAimp3TU,88730,119199,[Music]\\n', 'QtYIAimp3TU,122770,127849,[Music]\\n', 'QtYIAimp3TU,132800,135800,are\\n', 'QtYIAimp3TU,136000,142959,[Music]\\n']\n",
      "==================================================\n",
      "s7_hNcmS-bw\n",
      "['vid,start,end,text\\n', 's7_hNcmS-bw,2340,5770,[Music]\\n', 's7_hNcmS-bw,8149,13198,[Music]\\n', 's7_hNcmS-bw,17440,20440,so\\n', 's7_hNcmS-bw,23420,26809,[Music]\\n', 's7_hNcmS-bw,27630,27790,[Applause]\\n', 's7_hNcmS-bw,27790,33900,[Music]\\n', 's7_hNcmS-bw,33900,39720,[Applause]\\n', 's7_hNcmS-bw,39720,50890,[Music]\\n', 's7_hNcmS-bw,52239,55239,oh\\n']\n",
      "==================================================\n",
      "jGAfcrppxFw\n",
      "['vid,start,end,text\\n', 'jGAfcrppxFw,5359,7520,i think some of the shield agents are\\n', 'jGAfcrppxFw,7520,9840,afraid of you me\\n', \"jGAfcrppxFw,9840,12639,i can't imagine why\\n\", 'jGAfcrppxFw,12639,14160,well they keep saying something about\\n', 'jGAfcrppxFw,14160,14880,you\\n', 'jGAfcrppxFw,14880,17920,stepping on them\\n', 'jGAfcrppxFw,19760,21600,um\\n', \"jGAfcrppxFw,21600,26039,that that's not what that means rogers\\n\"]\n",
      "==================================================\n",
      "N9vWCJZhm08\n",
      "['vid,start,end,text\\n', 'N9vWCJZhm08,160,1120,you\\n', 'N9vWCJZhm08,1120,4960,you are the one i miss you so much\\n', \"N9vWCJZhm08,4960,7759,now that you're gone\\n\", \"N9vWCJZhm08,7759,8720,don't\\n\", \"N9vWCJZhm08,8720,12639,don't be afraid i'll be by your side\\n\", 'N9vWCJZhm08,12639,16160,leading the way\\n', 'N9vWCJZhm08,16160,18320,so\\n', 'N9vWCJZhm08,19240,24699,[Music]\\n', 'N9vWCJZhm08,27640,32480,lonely before i fall\\n']\n",
      "==================================================\n",
      "oiMDMOlgQz8\n",
      "['vid,start,end,text\\n', 'oiMDMOlgQz8,13759,17799,sun is\\n', 'oiMDMOlgQz8,30160,34519,come give me\\n', 'oiMDMOlgQz8,44010,84619,[Music]\\n', 'oiMDMOlgQz8,87680,90680,living\\n', 'oiMDMOlgQz8,95520,138199,[Music]\\n', 'oiMDMOlgQz8,138560,141800,i know\\n', 'oiMDMOlgQz8,145920,147210,i know\\n', 'oiMDMOlgQz8,147210,160080,[Music]\\n', 'oiMDMOlgQz8,160080,163480,got it\\n']\n",
      "==================================================\n"
     ]
    },
    {
     "name": "stdout",
     "output_type": "stream",
     "text": [
      "tUPcAQuo0jI\n",
      "['vid,start,end,text\\n', \"tUPcAQuo0jI,719,2480,i'm sorry\\n\", \"tUPcAQuo0jI,2480,4160,don't believe me\\n\", 'tUPcAQuo0jI,4160,9319,i want you here with me\\n', 'tUPcAQuo0jI,11710,14889,[Applause]\\n', 'tUPcAQuo0jI,22530,30239,[Music]\\n']\n",
      "==================================================\n",
      "RrKuOgTnocY\n",
      "['vid,start,end,text\\n', 'RrKuOgTnocY,111680,114680,foreign\\n', 'RrKuOgTnocY,210959,213840,foreign\\n', 'RrKuOgTnocY,336000,339000,foreign\\n', 'RrKuOgTnocY,348960,351960,foreign\\n', 'RrKuOgTnocY,426080,429080,foreign\\n']\n",
      "==================================================\n",
      "jDGFm-VBowI\n",
      "['vid,start,end,text\\n', 'jDGFm-VBowI,0,6429,[Music]\\n', 'jDGFm-VBowI,8800,11800,is\\n', 'jDGFm-VBowI,12750,16640,[Music]\\n', 'jDGFm-VBowI,21810,24869,[Music]\\n', 'jDGFm-VBowI,28880,31790,when\\n', 'jDGFm-VBowI,31790,35840,[Music]\\n', 'jDGFm-VBowI,35840,38840,is\\n', 'jDGFm-VBowI,39170,45799,[Music]\\n']\n",
      "==================================================\n",
      "FoxJzHQyRyE\n",
      "['vid,start,end,text\\n', 'FoxJzHQyRyE,4110,11729,[Music]\\n', 'FoxJzHQyRyE,12880,15880,is\\n', 'FoxJzHQyRyE,26800,30960,suddenly you call my name and i lose\\n', 'FoxJzHQyRyE,31870,37509,[Music]\\n', 'FoxJzHQyRyE,38640,41640,is\\n', 'FoxJzHQyRyE,52239,55239,um\\n', 'FoxJzHQyRyE,58050,61110,[Music]\\n']\n",
      "==================================================\n",
      "O5L4A92hd0s\n",
      "['vid,start,end,text\\n', 'O5L4A92hd0s,3510,6930,[Music]\\n', 'O5L4A92hd0s,20740,23860,[Music]\\n', 'O5L4A92hd0s,25960,39520,[Music]\\n', 'O5L4A92hd0s,39520,42520,foreign\\n', 'O5L4A92hd0s,42790,47389,[Music]\\n', 'O5L4A92hd0s,56960,59520,[Music]\\n', 'O5L4A92hd0s,59520,61760,oh\\n']\n",
      "==================================================\n"
     ]
    }
   ],
   "source": [
    "# transcript 有1800+个video是空的\n",
    "empty_trsc_vids = set()\n",
    "for file in os.listdir(TRANSCRIPT_FOLDER):\n",
    "    if file == '.DS_Store':\n",
    "        continue\n",
    "    path = os.path.join(TRANSCRIPT_FOLDER, file)\n",
    "    with open(path, 'r')as f:\n",
    "        lines = f.readlines()\n",
    "        if len(lines) <= 10:\n",
    "            vid = file.split('.')[0]\n",
    "            print(vid)\n",
    "            print(lines)\n",
    "            print('='*50)\n",
    "            empty_trsc_vids.add(vid)"
   ]
  },
  {
   "cell_type": "code",
   "execution_count": 4,
   "id": "95d947f6",
   "metadata": {},
   "outputs": [
    {
     "name": "stdout",
     "output_type": "stream",
     "text": [
      "bs3_lazLhOc deleted\n",
      "2yJFnhWjSy4 deleted\n",
      "_NiKR3vzf0o deleted\n",
      "mLFzDJ4rQyc deleted\n",
      "BFChZomh-Jo deleted\n",
      "na-EhbQx_Rg deleted\n",
      "N-p3emMfR3c deleted\n",
      "jDGFm-VBowI deleted\n",
      "wE50k4AQho8 deleted\n",
      "cboWaUdLzGw deleted\n",
      "Q48fmgNIynQ deleted\n",
      "2VBcROEDy0s deleted\n",
      "91V5BBkduyQ deleted\n",
      "kkxdhkurKak deleted\n",
      "jGAfcrppxFw deleted\n",
      "nYY5tz-PTzY deleted\n",
      "JzDF4dbkReM deleted\n",
      "zKgrrRU_UgI deleted\n",
      "gaXQo5D_dgs deleted\n",
      "iAOeM_d6E3g deleted\n",
      "9WPrPGA19Uw deleted\n",
      "FoxJzHQyRyE deleted\n",
      "cxmzZ9ah64E deleted\n",
      "SI9isXfowd4 deleted\n",
      "5LZeSdrRZzQ deleted\n",
      "gYUcSDjHD_A deleted\n",
      "7IP5zAefiiQ deleted\n",
      "McBuV6fud1g deleted\n",
      "WOmfEtd62aY deleted\n",
      "NHcMob95EC8 deleted\n",
      "POUf2rO6xAQ deleted\n",
      "QtYIAimp3TU deleted\n",
      "JvyS7aUZbMc deleted\n",
      "tzluMWgVgko deleted\n",
      "d7kiYLN1Z3w deleted\n",
      "RrKuOgTnocY deleted\n",
      "s7_hNcmS-bw deleted\n",
      "M8rnCHUHniw deleted\n",
      "ub1WfnpqXFc deleted\n",
      "Xw4MB4xiXhY deleted\n",
      "tUPcAQuo0jI deleted\n",
      "oiMDMOlgQz8 deleted\n",
      "lFiD3AUzYUk deleted\n",
      "2rkoe4XfoPI deleted\n",
      "mw8TmzYwzZA deleted\n",
      "zPxz33Zwpes deleted\n",
      "5wM0RP1AHlU deleted\n",
      "SqlzqL9nC_4 deleted\n",
      "D9t1_NbO12I deleted\n",
      "xGWMCOplqUk deleted\n",
      "N9vWCJZhm08 deleted\n",
      "dOjLTDO6U5Y deleted\n",
      "O5L4A92hd0s deleted\n",
      "qVLWLUQgn7I deleted\n",
      "PFFK8KFpA5w deleted\n",
      "6mN9hVxL3A0 deleted\n",
      "uQ0ak_86o6M deleted\n"
     ]
    }
   ],
   "source": [
    "for vid in empty_trsc_vids:\n",
    "    try:\n",
    "        path = os.path.join(TRANSCRIPT_FOLDER, vid+'.csv')\n",
    "        os.remove(path)\n",
    "        print(vid, 'deleted')\n",
    "    except:\n",
    "        print(vid, 'error')"
   ]
  },
  {
   "cell_type": "markdown",
   "id": "615b6aa1",
   "metadata": {},
   "source": [
    "## 4.1 检查文本内容，删除一些没啥实际含义的内容"
   ]
  },
  {
   "cell_type": "code",
   "execution_count": 5,
   "id": "6f9db06e",
   "metadata": {
    "scrolled": false
   },
   "outputs": [
    {
     "name": "stderr",
     "output_type": "stream",
     "text": [
      "IOPub data rate exceeded.\n",
      "The notebook server will temporarily stop sending output\n",
      "to the client in order to avoid crashing it.\n",
      "To change this limit, set the config variable\n",
      "`--NotebookApp.iopub_data_rate_limit`.\n",
      "\n",
      "Current values:\n",
      "NotebookApp.iopub_data_rate_limit=1000000.0 (bytes/sec)\n",
      "NotebookApp.rate_limit_window=3.0 (secs)\n",
      "\n"
     ]
    }
   ],
   "source": [
    "empty_trsc_vids = set()\n",
    "for file in os.listdir(TRANSCRIPT_FOLDER):\n",
    "    if file == '.DS_Store':\n",
    "        continue\n",
    "    path = os.path.join(TRANSCRIPT_FOLDER, file)\n",
    "    with open(path, 'r')as f:\n",
    "        reader = csv.reader(f)\n",
    "        contents = ' '.join([r[3] for r in reader])\n",
    "#         print(contents)\n",
    "        if '[Music]' in contents and len([r[3] for r in reader]) < 4:\n",
    "            print(path)\n",
    "            print(contents)\n",
    "#     break\n"
   ]
  },
  {
   "cell_type": "code",
   "execution_count": 12,
   "id": "df409715",
   "metadata": {},
   "outputs": [
    {
     "data": {
      "text/plain": [
       "2532"
      ]
     },
     "execution_count": 12,
     "metadata": {},
     "output_type": "execute_result"
    }
   ],
   "source": [
    "vids = [path.split('.')[0] for path in os.listdir(TRANSCRIPT_FOLDER)]\n",
    "len(vids)"
   ]
  },
  {
   "cell_type": "markdown",
   "id": "d7997ad1",
   "metadata": {},
   "source": [
    "## 4.2 对比删除没有的视频\n",
    "* BV0PwOExYp4\n",
    "* wvz97-lNPH8"
   ]
  },
  {
   "cell_type": "code",
   "execution_count": 87,
   "id": "e9fbd97e",
   "metadata": {},
   "outputs": [],
   "source": [
    "comment_df = pd.read_csv(COMMENT_PATH)\n",
    "info_df = pd.read_csv(INFO_PATH)"
   ]
  },
  {
   "cell_type": "code",
   "execution_count": 88,
   "id": "f8a7d0eb",
   "metadata": {
    "scrolled": true
   },
   "outputs": [
    {
     "name": "stdout",
     "output_type": "stream",
     "text": [
      "2588 4225 2086\n"
     ]
    }
   ],
   "source": [
    "info_vids = set(info_df['vid'])\n",
    "comment_vids = set(comment_df['vid'])\n",
    "transcript_vids = set()\n",
    "for file in os.listdir(TRANSCRIPT_FOLDER):\n",
    "    if file.startswith('.D'):\n",
    "        continue\n",
    "    vid = file.split('.')[0]\n",
    "    transcript_vids.add(vid)\n",
    "print(len(transcript_vids), len(comment_vids),len(info_ids))"
   ]
  },
  {
   "cell_type": "code",
   "execution_count": 89,
   "id": "9943cd6e",
   "metadata": {},
   "outputs": [
    {
     "data": {
      "text/plain": [
       "1678"
      ]
     },
     "execution_count": 89,
     "metadata": {},
     "output_type": "execute_result"
    }
   ],
   "source": [
    "vids = transcript_vids & comment_vids & info_ids\n",
    "len(vids)"
   ]
  },
  {
   "cell_type": "code",
   "execution_count": 90,
   "id": "385f02c3",
   "metadata": {
    "scrolled": true
   },
   "outputs": [],
   "source": [
    "# 删除info中多余部分\n",
    "info_df = info_df.drop(info_df[~info_df['vid'].isin(vids)].index)"
   ]
  },
  {
   "cell_type": "code",
   "execution_count": 91,
   "id": "30c9618e",
   "metadata": {},
   "outputs": [],
   "source": [
    "# 删除comment中多余的部分\n",
    "comment_df = comment_df.drop(comment_df[~comment_df['vid'].isin(vids)].index)"
   ]
  },
  {
   "cell_type": "code",
   "execution_count": 94,
   "id": "2cb4a6de",
   "metadata": {
    "scrolled": true
   },
   "outputs": [
    {
     "data": {
      "text/plain": [
       "1678"
      ]
     },
     "execution_count": 94,
     "metadata": {},
     "output_type": "execute_result"
    }
   ],
   "source": [
    "comment_df['vid'].unique()"
   ]
  },
  {
   "cell_type": "code",
   "execution_count": 97,
   "id": "cba32b55",
   "metadata": {},
   "outputs": [],
   "source": [
    "comment_df.to_csv('comments.csv', index = None)\n",
    "info_df.to_csv('infos.csv', index=None)"
   ]
  },
  {
   "cell_type": "code",
   "execution_count": 100,
   "id": "f8f8ccfa",
   "metadata": {},
   "outputs": [],
   "source": [
    "count = 0\n",
    "for file in os.listdir(TRANSCRIPT_FOLDER):\n",
    "    vid  = file.split('.')[0]\n",
    "    if vid not in vids:\n",
    "        os.remove(os.path.join(TRANSCRIPT_FOLDER, file))\n",
    "        count += 1"
   ]
  },
  {
   "cell_type": "code",
   "execution_count": 101,
   "id": "fbbca0d6",
   "metadata": {},
   "outputs": [
    {
     "data": {
      "text/plain": [
       "1678"
      ]
     },
     "execution_count": 101,
     "metadata": {},
     "output_type": "execute_result"
    }
   ],
   "source": [
    "len(os.listdir(TRANSCRIPT_FOLDER))"
   ]
  }
 ],
 "metadata": {
  "kernelspec": {
   "display_name": "Python [conda env:deeplearning]",
   "language": "python",
   "name": "conda-env-deeplearning-py"
  },
  "language_info": {
   "codemirror_mode": {
    "name": "ipython",
    "version": 3
   },
   "file_extension": ".py",
   "mimetype": "text/x-python",
   "name": "python",
   "nbconvert_exporter": "python",
   "pygments_lexer": "ipython3",
   "version": "3.9.2"
  }
 },
 "nbformat": 4,
 "nbformat_minor": 5
}
