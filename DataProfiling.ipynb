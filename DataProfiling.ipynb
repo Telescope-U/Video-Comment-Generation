{
 "cells": [
  {
   "cell_type": "code",
   "execution_count": 1,
   "id": "f1f3ac76",
   "metadata": {},
   "outputs": [],
   "source": [
    "import os\n",
    "import numpy as np\n",
    "import pandas as pd\n",
    "COMMENT_PATH = 'Dataset/comments.csv'\n",
    "TRANSCRIPT_FOLDER = \"Dataset/Transcripts/\"\n",
    "INFO_PATH = \"Dataset/videos.csv\"\n",
    "LOG_ERROR_PATH = \"DataCollection/error_log.csv\"\n",
    "LOG_SUCCESS_PATH = \"DataCollection/success_log.csv\""
   ]
  },
  {
   "cell_type": "markdown",
   "id": "39f97356",
   "metadata": {},
   "source": [
    "# 1. Clean empty file\n",
    "* 清除没有comment / transcript的数据"
   ]
  },
  {
   "cell_type": "code",
   "execution_count": 2,
   "id": "ac005bb8",
   "metadata": {
    "scrolled": true
   },
   "outputs": [],
   "source": [
    "comment_df = pd.read_csv(COMMENT_PATH)\n",
    "info_df = pd.read_csv(INFO_PATH)"
   ]
  },
  {
   "cell_type": "code",
   "execution_count": 3,
   "id": "42cdf383",
   "metadata": {},
   "outputs": [
    {
     "data": {
      "text/html": [
       "<div>\n",
       "<style scoped>\n",
       "    .dataframe tbody tr th:only-of-type {\n",
       "        vertical-align: middle;\n",
       "    }\n",
       "\n",
       "    .dataframe tbody tr th {\n",
       "        vertical-align: top;\n",
       "    }\n",
       "\n",
       "    .dataframe thead th {\n",
       "        text-align: right;\n",
       "    }\n",
       "</style>\n",
       "<table border=\"1\" class=\"dataframe\">\n",
       "  <thead>\n",
       "    <tr style=\"text-align: right;\">\n",
       "      <th></th>\n",
       "      <th>vid</th>\n",
       "      <th>uid</th>\n",
       "      <th>content</th>\n",
       "      <th>votes</th>\n",
       "    </tr>\n",
       "  </thead>\n",
       "  <tbody>\n",
       "    <tr>\n",
       "      <th>count</th>\n",
       "      <td>481821</td>\n",
       "      <td>481821</td>\n",
       "      <td>481817</td>\n",
       "      <td>389255</td>\n",
       "    </tr>\n",
       "    <tr>\n",
       "      <th>unique</th>\n",
       "      <td>4229</td>\n",
       "      <td>236830</td>\n",
       "      <td>220950</td>\n",
       "      <td>1191</td>\n",
       "    </tr>\n",
       "    <tr>\n",
       "      <th>top</th>\n",
       "      <td>wlCz8nkDNqo</td>\n",
       "      <td>UgziUl3K5xK980NQ0bp4AaABAg</td>\n",
       "      <td>❤</td>\n",
       "      <td>1</td>\n",
       "    </tr>\n",
       "    <tr>\n",
       "      <th>freq</th>\n",
       "      <td>480</td>\n",
       "      <td>12</td>\n",
       "      <td>769</td>\n",
       "      <td>52884</td>\n",
       "    </tr>\n",
       "  </tbody>\n",
       "</table>\n",
       "</div>"
      ],
      "text/plain": [
       "                vid                         uid content   votes\n",
       "count        481821                      481821  481817  389255\n",
       "unique         4229                      236830  220950    1191\n",
       "top     wlCz8nkDNqo  UgziUl3K5xK980NQ0bp4AaABAg       ❤       1\n",
       "freq            480                          12     769   52884"
      ]
     },
     "execution_count": 3,
     "metadata": {},
     "output_type": "execute_result"
    }
   ],
   "source": [
    "comment_df.describe()"
   ]
  },
  {
   "cell_type": "code",
   "execution_count": 4,
   "id": "40a4fd8d",
   "metadata": {},
   "outputs": [
    {
     "data": {
      "text/plain": [
       "(481821, 4)"
      ]
     },
     "execution_count": 4,
     "metadata": {},
     "output_type": "execute_result"
    }
   ],
   "source": [
    "comment_df.shape"
   ]
  },
  {
   "cell_type": "code",
   "execution_count": 5,
   "id": "56fec528",
   "metadata": {},
   "outputs": [],
   "source": [
    "comment_df = comment_df.drop_duplicates(['uid', 'content'])"
   ]
  },
  {
   "cell_type": "code",
   "execution_count": 6,
   "id": "a034a00f",
   "metadata": {
    "scrolled": true
   },
   "outputs": [
    {
     "data": {
      "text/plain": [
       "(4410, 7)"
      ]
     },
     "execution_count": 6,
     "metadata": {},
     "output_type": "execute_result"
    }
   ],
   "source": [
    "cleaned_info_df = info_df[info_df['vid'].isin(comment_df['vid'])]\n",
    "cleaned_info_df.shape"
   ]
  },
  {
   "cell_type": "code",
   "execution_count": 7,
   "id": "2b991285",
   "metadata": {},
   "outputs": [],
   "source": [
    "# transcript 有1800+个video是空的\n",
    "empty_vids = set()\n",
    "for file in os.listdir(TRANSCRIPT_FOLDER):\n",
    "    if file == '.DS_Store':\n",
    "        continue\n",
    "    with open(os.path.join(TRANSCRIPT_FOLDER, file), 'r')as f:\n",
    "        lines = f.readlines()\n",
    "        if len(lines) <= 5:\n",
    "            vid = file.split('.')[0]\n",
    "            empty_vids.add(vid)"
   ]
  },
  {
   "cell_type": "code",
   "execution_count": 8,
   "id": "6b88b02c",
   "metadata": {},
   "outputs": [
    {
     "name": "stderr",
     "output_type": "stream",
     "text": [
      "<ipython-input-8-8912f1cf3b77>:1: UserWarning: Boolean Series key will be reindexed to match DataFrame index.\n",
      "  cleaned_info_df = cleaned_info_df[~info_df['vid'].isin(empty_vids)]\n"
     ]
    }
   ],
   "source": [
    "cleaned_info_df = cleaned_info_df[~info_df['vid'].isin(empty_vids)]\n"
   ]
  },
  {
   "cell_type": "code",
   "execution_count": 9,
   "id": "016b7103",
   "metadata": {},
   "outputs": [
    {
     "data": {
      "text/plain": [
       "(2523, 7)"
      ]
     },
     "execution_count": 9,
     "metadata": {},
     "output_type": "execute_result"
    }
   ],
   "source": [
    "deleted_infos = info_df[~info_df['vid'].isin(cleaned_info_df['vid'])]\n",
    "deleted_infos.shape"
   ]
  },
  {
   "cell_type": "code",
   "execution_count": 10,
   "id": "7a00d887",
   "metadata": {},
   "outputs": [
    {
     "data": {
      "text/plain": [
       "(2860, 7)"
      ]
     },
     "execution_count": 10,
     "metadata": {},
     "output_type": "execute_result"
    }
   ],
   "source": [
    "cleaned_info_df.shape"
   ]
  },
  {
   "cell_type": "code",
   "execution_count": 17,
   "id": "489a969d",
   "metadata": {},
   "outputs": [
    {
     "data": {
      "text/plain": [
       "(2740, 7)"
      ]
     },
     "execution_count": 17,
     "metadata": {},
     "output_type": "execute_result"
    }
   ],
   "source": [
    "cleaned_info_df = cleaned_info_df.drop_duplicates(['vid'])\n",
    "cleaned_info_df.shape"
   ]
  },
  {
   "cell_type": "code",
   "execution_count": 18,
   "id": "49bfe82b",
   "metadata": {},
   "outputs": [],
   "source": [
    "\n",
    "cleaned_info_df.to_csv('info.csv', index=None)"
   ]
  },
  {
   "cell_type": "markdown",
   "id": "7d22daa9",
   "metadata": {},
   "source": [
    "## 1.2 清理空数据之后的分类结果\n",
    "1. News和Education 最多，都超过300了"
   ]
  },
  {
   "cell_type": "code",
   "execution_count": 19,
   "id": "24873377",
   "metadata": {
    "scrolled": false
   },
   "outputs": [
    {
     "data": {
      "text/plain": [
       "Education        376\n",
       "News             372\n",
       "Vlog             231\n",
       "Music            221\n",
       "Fashion          218\n",
       "Art              194\n",
       "Sport            176\n",
       "Game             171\n",
       "Entertainment    161\n",
       "Tech             160\n",
       "Food             127\n",
       "Motivation       116\n",
       "Name: tag, dtype: int64"
      ]
     },
     "execution_count": 19,
     "metadata": {},
     "output_type": "execute_result"
    }
   ],
   "source": [
    "deleted_infos['tag'].value_counts()"
   ]
  },
  {
   "cell_type": "code",
   "execution_count": 20,
   "id": "5a4d3560",
   "metadata": {
    "scrolled": true
   },
   "outputs": [
    {
     "data": {
      "text/plain": [
       "<AxesSubplot:>"
      ]
     },
     "execution_count": 20,
     "metadata": {},
     "output_type": "execute_result"
    },
    {
     "data": {
      "image/png": "[encoded data removed]",
      "text/plain": [
       "<Figure size 432x288 with 1 Axes>"
      ]
     },
     "metadata": {
      "needs_background": "light"
     },
     "output_type": "display_data"
    }
   ],
   "source": [
    "deleted_infos['tag'].hist()"
   ]
  },
  {
   "cell_type": "markdown",
   "id": "9f3f53db",
   "metadata": {},
   "source": [
    "# 2. Video Information Profile\n",
    "* 每个属性的nan情况\n",
    "* tag的分布\n",
    "* 发布时间\n",
    "* views需要处理成数据\n",
    "\n",
    " 原来有5283个video"
   ]
  },
  {
   "cell_type": "code",
   "execution_count": 39,
   "id": "01b3e02d",
   "metadata": {},
   "outputs": [
    {
     "data": {
      "text/html": [
       "<div>\n",
       "<style scoped>\n",
       "    .dataframe tbody tr th:only-of-type {\n",
       "        vertical-align: middle;\n",
       "    }\n",
       "\n",
       "    .dataframe tbody tr th {\n",
       "        vertical-align: top;\n",
       "    }\n",
       "\n",
       "    .dataframe thead th {\n",
       "        text-align: right;\n",
       "    }\n",
       "</style>\n",
       "<table border=\"1\" class=\"dataframe\">\n",
       "  <thead>\n",
       "    <tr style=\"text-align: right;\">\n",
       "      <th></th>\n",
       "      <th>vid</th>\n",
       "      <th>title</th>\n",
       "      <th>tag</th>\n",
       "      <th>time</th>\n",
       "      <th>duration</th>\n",
       "      <th>views</th>\n",
       "      <th>link</th>\n",
       "    </tr>\n",
       "  </thead>\n",
       "  <tbody>\n",
       "    <tr>\n",
       "      <th>count</th>\n",
       "      <td>2740</td>\n",
       "      <td>2740</td>\n",
       "      <td>2740</td>\n",
       "      <td>2740</td>\n",
       "      <td>2740</td>\n",
       "      <td>2738</td>\n",
       "      <td>2740</td>\n",
       "    </tr>\n",
       "    <tr>\n",
       "      <th>unique</th>\n",
       "      <td>2740</td>\n",
       "      <td>2734</td>\n",
       "      <td>12</td>\n",
       "      <td>89</td>\n",
       "      <td>1481</td>\n",
       "      <td>2735</td>\n",
       "      <td>2740</td>\n",
       "    </tr>\n",
       "    <tr>\n",
       "      <th>top</th>\n",
       "      <td>gTxbZLo1Nng</td>\n",
       "      <td>Music Mix 2022 🎧 EDM Remixes of Popular Songs ...</td>\n",
       "      <td>Tech</td>\n",
       "      <td>1 month ago</td>\n",
       "      <td>1:00</td>\n",
       "      <td>56,637 views</td>\n",
       "      <td>https://www.youtube.com/watch?v=01l6oFVdruc</td>\n",
       "    </tr>\n",
       "    <tr>\n",
       "      <th>freq</th>\n",
       "      <td>1</td>\n",
       "      <td>2</td>\n",
       "      <td>306</td>\n",
       "      <td>252</td>\n",
       "      <td>25</td>\n",
       "      <td>2</td>\n",
       "      <td>1</td>\n",
       "    </tr>\n",
       "  </tbody>\n",
       "</table>\n",
       "</div>"
      ],
      "text/plain": [
       "                vid                                              title   tag  \\\n",
       "count          2740                                               2740  2740   \n",
       "unique         2740                                               2734    12   \n",
       "top     gTxbZLo1Nng  Music Mix 2022 🎧 EDM Remixes of Popular Songs ...  Tech   \n",
       "freq              1                                                  2   306   \n",
       "\n",
       "               time duration         views  \\\n",
       "count          2740     2740          2738   \n",
       "unique           89     1481          2735   \n",
       "top     1 month ago     1:00  56,637 views   \n",
       "freq            252       25             2   \n",
       "\n",
       "                                               link  \n",
       "count                                          2740  \n",
       "unique                                         2740  \n",
       "top     https://www.youtube.com/watch?v=01l6oFVdruc  \n",
       "freq                                              1  "
      ]
     },
     "execution_count": 39,
     "metadata": {},
     "output_type": "execute_result"
    }
   ],
   "source": [
    "infos = pd.read_csv(\"info.csv\")\n",
    "infos.describe()"
   ]
  },
  {
   "cell_type": "markdown",
   "id": "cfc354df",
   "metadata": {},
   "source": [
    "## 2.1 duration"
   ]
  },
  {
   "cell_type": "code",
   "execution_count": 35,
   "id": "66492288",
   "metadata": {
    "scrolled": true
   },
   "outputs": [
    {
     "data": {
      "text/plain": [
       "0       3:11\n",
       "1       8:35\n",
       "2       3:46\n",
       "3       1:41\n",
       "4       2:41\n",
       "        ... \n",
       "2735    3:27\n",
       "2736    4:57\n",
       "2737    3:08\n",
       "2738    2:32\n",
       "2739    3:42\n",
       "Name: duration, Length: 2740, dtype: object"
      ]
     },
     "execution_count": 35,
     "metadata": {},
     "output_type": "execute_result"
    }
   ],
   "source": [
    "infos['duration']"
   ]
  },
  {
   "cell_type": "code",
   "execution_count": 40,
   "id": "87383718",
   "metadata": {},
   "outputs": [
    {
     "data": {
      "text/plain": [
       "count    2740.000000\n",
       "mean       18.942701\n",
       "std        35.841803\n",
       "min         0.216667\n",
       "25%         6.083333\n",
       "50%        11.500000\n",
       "75%        19.450000\n",
       "max       801.566667\n",
       "Name: duration, dtype: float64"
      ]
     },
     "execution_count": 40,
     "metadata": {},
     "output_type": "execute_result"
    }
   ],
   "source": [
    "def trans_duration(string):\n",
    "    miniute, second = string.split(':')[-2], string.split(':')[-1]\n",
    "    if len(string.split(':')) == 3:\n",
    "        hour = string.split(':')[0]\n",
    "    else:\n",
    "        hour = 0\n",
    "    return (int(hour)* 3600 + int(miniute)*60 + int(second))/60\n",
    "infos['duration'] = infos['duration'].apply(trans_duration)\n",
    "infos['duration'].describe()"
   ]
  },
  {
   "cell_type": "code",
   "execution_count": 44,
   "id": "3e1ebdaa",
   "metadata": {
    "scrolled": true
   },
   "outputs": [
    {
     "data": {
      "text/html": [
       "<div>\n",
       "<style scoped>\n",
       "    .dataframe tbody tr th:only-of-type {\n",
       "        vertical-align: middle;\n",
       "    }\n",
       "\n",
       "    .dataframe tbody tr th {\n",
       "        vertical-align: top;\n",
       "    }\n",
       "\n",
       "    .dataframe thead th {\n",
       "        text-align: right;\n",
       "    }\n",
       "</style>\n",
       "<table border=\"1\" class=\"dataframe\">\n",
       "  <thead>\n",
       "    <tr style=\"text-align: right;\">\n",
       "      <th></th>\n",
       "      <th>duration</th>\n",
       "    </tr>\n",
       "  </thead>\n",
       "  <tbody>\n",
       "    <tr>\n",
       "      <th>count</th>\n",
       "      <td>2086.000000</td>\n",
       "    </tr>\n",
       "    <tr>\n",
       "      <th>mean</th>\n",
       "      <td>9.254666</td>\n",
       "    </tr>\n",
       "    <tr>\n",
       "      <th>std</th>\n",
       "      <td>5.196186</td>\n",
       "    </tr>\n",
       "    <tr>\n",
       "      <th>min</th>\n",
       "      <td>0.216667</td>\n",
       "    </tr>\n",
       "    <tr>\n",
       "      <th>25%</th>\n",
       "      <td>4.583333</td>\n",
       "    </tr>\n",
       "    <tr>\n",
       "      <th>50%</th>\n",
       "      <td>9.116667</td>\n",
       "    </tr>\n",
       "    <tr>\n",
       "      <th>75%</th>\n",
       "      <td>13.262500</td>\n",
       "    </tr>\n",
       "    <tr>\n",
       "      <th>max</th>\n",
       "      <td>19.983333</td>\n",
       "    </tr>\n",
       "  </tbody>\n",
       "</table>\n",
       "</div>"
      ],
      "text/plain": [
       "          duration\n",
       "count  2086.000000\n",
       "mean      9.254666\n",
       "std       5.196186\n",
       "min       0.216667\n",
       "25%       4.583333\n",
       "50%       9.116667\n",
       "75%      13.262500\n",
       "max      19.983333"
      ]
     },
     "execution_count": 44,
     "metadata": {},
     "output_type": "execute_result"
    }
   ],
   "source": [
    "infos = infos[infos['duration'] < 20]\n",
    "infos.describe()"
   ]
  },
  {
   "cell_type": "markdown",
   "id": "7fc941d1",
   "metadata": {},
   "source": [
    "## 2.2 views"
   ]
  },
  {
   "cell_type": "code",
   "execution_count": 58,
   "id": "8cb66129",
   "metadata": {
    "scrolled": true
   },
   "outputs": [
    {
     "data": {
      "text/plain": [
       "0          143,423 views\n",
       "1        1,129,023 views\n",
       "2           73,366 views\n",
       "3          122,448 views\n",
       "4          309,045 views\n",
       "              ...       \n",
       "2735         1,261 views\n",
       "2736       806,112 views\n",
       "2737    37,929,473 views\n",
       "2738     1,095,318 views\n",
       "2739       335,583 views\n",
       "Name: views, Length: 2086, dtype: object"
      ]
     },
     "execution_count": 58,
     "metadata": {},
     "output_type": "execute_result"
    }
   ],
   "source": [
    "infos.views"
   ]
  },
  {
   "cell_type": "code",
   "execution_count": 63,
   "id": "36b0b424",
   "metadata": {},
   "outputs": [],
   "source": [
    "def trans_views(string):\n",
    "    try:\n",
    "        return int(string.strip('views').replace(',',''))/10000\n",
    "    except:\n",
    "        return \n",
    "infos['view_10k'] = infos['views'].apply(trans_views)"
   ]
  },
  {
   "cell_type": "code",
   "execution_count": 64,
   "id": "8c4de64a",
   "metadata": {
    "scrolled": true
   },
   "outputs": [
    {
     "data": {
      "text/plain": [
       "0         14.3423\n",
       "1        112.9023\n",
       "2          7.3366\n",
       "3         12.2448\n",
       "4         30.9045\n",
       "          ...    \n",
       "2735       0.1261\n",
       "2736      80.6112\n",
       "2737    3792.9473\n",
       "2738     109.5318\n",
       "2739      33.5583\n",
       "Name: view_10k, Length: 2086, dtype: float64"
      ]
     },
     "execution_count": 64,
     "metadata": {},
     "output_type": "execute_result"
    }
   ],
   "source": [
    "infos['view_10k']"
   ]
  },
  {
   "cell_type": "code",
   "execution_count": 65,
   "id": "d98d8a9f",
   "metadata": {},
   "outputs": [
    {
     "data": {
      "text/plain": [
       "array([[<AxesSubplot:title={'center':'duration'}>,\n",
       "        <AxesSubplot:title={'center':'view_10k'}>]], dtype=object)"
      ]
     },
     "execution_count": 65,
     "metadata": {},
     "output_type": "execute_result"
    },
    {
     "data": {
      "image/png": "[encoded data removed]",
      "text/plain": [
       "<Figure size 432x288 with 2 Axes>"
      ]
     },
     "metadata": {
      "needs_background": "light"
     },
     "output_type": "display_data"
    }
   ],
   "source": [
    "infos.hist()"
   ]
  },
  {
   "cell_type": "code",
   "execution_count": 66,
   "id": "3ca8df1f",
   "metadata": {},
   "outputs": [],
   "source": [
    "infos.to_csv('new_infos.csv', index = None)"
   ]
  }
 ],
 "metadata": {
  "kernelspec": {
   "display_name": "Python [conda env:deeplearning]",
   "language": "python",
   "name": "conda-env-deeplearning-py"
  },
  "language_info": {
   "codemirror_mode": {
    "name": "ipython",
    "version": 3
   },
   "file_extension": ".py",
   "mimetype": "text/x-python",
   "name": "python",
   "nbconvert_exporter": "python",
   "pygments_lexer": "ipython3",
   "version": "3.9.2"
  }
 },
 "nbformat": 4,
 "nbformat_minor": 5
}
